{
 "cells": [
  {
   "cell_type": "markdown",
   "metadata": {},
   "source": [
    "# RNA-Seq from scratch - Kallisto"
   ]
  },
  {
   "cell_type": "markdown",
   "metadata": {},
   "source": [
    "Notes on the example data and experiment"
   ]
  },
  {
   "cell_type": "markdown",
   "metadata": {},
   "source": [
    "## Organizing our inputs"
   ]
  },
  {
   "cell_type": "markdown",
   "metadata": {},
   "source": [
    "Kallisto requires just a few simple things to run \n",
    "\n",
    "- A reference transcriptome\n",
    "- FastQ files (your sequence data)\n",
    "\n",
    "Since we already have this data available on the computers you are connecting to, let's find, inspect, and organize it"
   ]
  },
  {
   "cell_type": "markdown",
   "metadata": {},
   "source": [
    "## Organizing files and directories"
   ]
  },
  {
   "cell_type": "markdown",
   "metadata": {},
   "source": [
    "This notebook is running the bash shell. We could run all of these commands from the terminal, and if you run these on a terminal on your own after the workshop the commands will be similar (the locations of your files may be different)"
   ]
  },
  {
   "cell_type": "markdown",
   "metadata": {},
   "source": [
    "### Get the working directory and set the locations of files\n",
    "\n",
    "First, let's go to our home directory. If you ever get lost there is no place like home:"
   ]
  },
  {
   "cell_type": "code",
   "execution_count": 55,
   "metadata": {},
   "outputs": [],
   "source": [
    "cd"
   ]
  },
  {
   "cell_type": "markdown",
   "metadata": {},
   "source": [
    "Let's see the contents of our home directory"
   ]
  },
  {
   "cell_type": "code",
   "execution_count": 56,
   "metadata": {},
   "outputs": [
    {
     "name": "stdout",
     "output_type": "stream",
     "text": [
      "bioinfosummer-rna-seq-notebooks  kallisto-rnaseq-jupyter  tutorial-data\n",
      "-i                               notebooks\n"
     ]
    }
   ],
   "source": [
    "ls"
   ]
  },
  {
   "cell_type": "markdown",
   "metadata": {},
   "source": [
    "Another way of specifying the home directory will be to use the `$HOME` shell variable"
   ]
  },
  {
   "cell_type": "code",
   "execution_count": 57,
   "metadata": {},
   "outputs": [
    {
     "name": "stdout",
     "output_type": "stream",
     "text": [
      "bioinfosummer-rna-seq-notebooks  kallisto-rnaseq-jupyter  tutorial-data\n",
      "-i                               notebooks\n"
     ]
    }
   ],
   "source": [
    "ls $HOME"
   ]
  },
  {
   "cell_type": "markdown",
   "metadata": {},
   "source": [
    "All of the data we need for our bulk RNA-Seq experiment should be in the `tutorial-data` folder; let's inspect its contents:"
   ]
  },
  {
   "cell_type": "code",
   "execution_count": 58,
   "metadata": {},
   "outputs": [
    {
     "name": "stdout",
     "output_type": "stream",
     "text": [
      "data           kallisto_bulk_rna-seq_ouputs  kallisto-single-cell\n",
      "kallisto-bulk  kallisto_sc_rna-seq_ouputs    processed_files\n"
     ]
    }
   ],
   "source": [
    "ls $HOME/tutorial-data"
   ]
  },
  {
   "cell_type": "markdown",
   "metadata": {},
   "source": [
    "For this experiment, all of our input data files will be in the `kallisto-bulk/data` folder: "
   ]
  },
  {
   "cell_type": "code",
   "execution_count": 59,
   "metadata": {},
   "outputs": [
    {
     "name": "stdout",
     "output_type": "stream",
     "text": [
      "fastq_files  hnpc_SRA_accessions.txt  study_design  transcriptomes\n"
     ]
    }
   ],
   "source": [
    "ls $HOME/tutorial-data/kallisto-bulk/data"
   ]
  },
  {
   "cell_type": "markdown",
   "metadata": {},
   "source": [
    "The `fastq_files` directory contains data generated from the example experiment"
   ]
  },
  {
   "cell_type": "code",
   "execution_count": 60,
   "metadata": {},
   "outputs": [
    {
     "name": "stdout",
     "output_type": "stream",
     "text": [
      "paired-end  single-end\n"
     ]
    }
   ],
   "source": [
    "ls $HOME/tutorial-data/kallisto-bulk/data/fastq_files"
   ]
  },
  {
   "cell_type": "markdown",
   "metadata": {},
   "source": [
    "Let's see which of the files were from paired-end sequenced libraries, and those that were single-end sequenced. A file in the `study_design` folder hass this information:"
   ]
  },
  {
   "cell_type": "code",
   "execution_count": 61,
   "metadata": {},
   "outputs": [
    {
     "name": "stdout",
     "output_type": "stream",
     "text": [
      "﻿,sample,condition,read,fragments,Instrument,LoadDate\n",
      "1,SRR3191542,mock,paired,7927777,Illumina MiSeq,2016-02-26\n",
      "2,SRR3191543,mock,paired,7391076,Illumina MiSeq,2016-02-26\n",
      "3,SRR3191544,zika,paired,7361527,Illumina MiSeq,2016-02-26\n",
      "4,SRR3191545,zika,paired,7621347,Illumina MiSeq,2016-02-26\n",
      "5,SRR3194428,mock,single,72983243,NextSeq 500,2016-02-29\n",
      "6,SRR3194429,mock,single,94729809,NextSeq 500,2016-02-29\n",
      "7,SRR3194430,zika,single,71055823,NextSeq 500,2016-02-29\n",
      "8,SRR3194431,zika,single,66528035,NextSeq 500,2016-02-29"
     ]
    }
   ],
   "source": [
    "cat $HOME/tutorial-data/kallisto-bulk/data/study_design/zikadesignmatrix.csv"
   ]
  },
  {
   "cell_type": "markdown",
   "metadata": {},
   "source": [
    "Samples `SRR3194428`, `SRR3194429`, `SRR3194430`, and `SRR3194431` are single-end sequenced, so we will move the coresponding fastq files into their own directories:"
   ]
  },
  {
   "cell_type": "code",
   "execution_count": 17,
   "metadata": {},
   "outputs": [],
   "source": [
    "mkdir $HOME/tutorial-data/kallisto-bulk/data/fastq_files/single-end ./tutorial-data/kallisto-bulk/data/fastq_files/paired-end "
   ]
  },
  {
   "cell_type": "markdown",
   "metadata": {},
   "source": [
    "We now have two new directories"
   ]
  },
  {
   "cell_type": "code",
   "execution_count": 36,
   "metadata": {},
   "outputs": [
    {
     "name": "stdout",
     "output_type": "stream",
     "text": [
      "paired-end  single-end\n"
     ]
    }
   ],
   "source": [
    "ls $HOME/tutorial-data/kallisto-bulk/data/fastq_files"
   ]
  },
  {
   "cell_type": "markdown",
   "metadata": {},
   "source": [
    "Let's change into this directory so our commands don't too long"
   ]
  },
  {
   "cell_type": "code",
   "execution_count": 22,
   "metadata": {},
   "outputs": [],
   "source": [
    "cd $HOME/tutorial-data/kallisto-bulk/data/fastq_files/"
   ]
  },
  {
   "cell_type": "markdown",
   "metadata": {},
   "source": [
    "Now we can move the desired files"
   ]
  },
  {
   "cell_type": "code",
   "execution_count": 23,
   "metadata": {},
   "outputs": [],
   "source": [
    "mv SRR3194428_1.fastq.gz SRR3194429_1.fastq.gz SRR3194430_1.fastq.gz SRR3194431_1.fastq.gz -t ./single-end"
   ]
  },
  {
   "cell_type": "markdown",
   "metadata": {},
   "source": [
    "and we can move the paired-end files as well"
   ]
  },
  {
   "cell_type": "code",
   "execution_count": 24,
   "metadata": {
    "scrolled": true
   },
   "outputs": [
    {
     "name": "stdout",
     "output_type": "stream",
     "text": [
      "mv: cannot move 'paired-end' to a subdirectory of itself, './paired-end/paired-end'\n",
      "mv: cannot stat '.fastq.gz': No such file or directory\n"
     ]
    },
    {
     "ename": "",
     "evalue": "1",
     "output_type": "error",
     "traceback": []
    }
   ],
   "source": [
    "mv *.fastq.gz ./paired-end"
   ]
  },
  {
   "cell_type": "markdown",
   "metadata": {},
   "source": [
    "Now we can see that the contents of both folders contain the appropriate sequences"
   ]
  },
  {
   "cell_type": "code",
   "execution_count": 34,
   "metadata": {
    "scrolled": true
   },
   "outputs": [
    {
     "name": "stdout",
     "output_type": "stream",
     "text": [
      ".:\n",
      "paired-end  single-end\n",
      "\n",
      "./paired-end:\n",
      "SRR3191541_1.fastq.gz  SRR3191543_2.fastq.gz  SRR3191545_1.fastq.gz\n",
      "SRR3191541_2.fastq.gz  SRR3191544_1.fastq.gz  SRR3191545_2.fastq.gz\n",
      "SRR3191543_1.fastq.gz  SRR3191544_2.fastq.gz\n",
      "\n",
      "./single-end:\n",
      "SRR3194428_1.fastq.gz  SRR3194430_1.fastq.gz\n",
      "SRR3194429_1.fastq.gz  SRR3194431_1.fastq.gz\n"
     ]
    }
   ],
   "source": [
    "ls -R"
   ]
  },
  {
   "cell_type": "markdown",
   "metadata": {},
   "source": [
    "If you remember in the previous exercise, we have already done some quality control on these files. Rather than repeat this let's move those QC files into directories here. Let's put them in a more convient place so that we don't mix raw data with processed data:"
   ]
  },
  {
   "cell_type": "code",
   "execution_count": 37,
   "metadata": {},
   "outputs": [
    {
     "name": "stdout",
     "output_type": "stream",
     "text": [
      "qc_fastp_paired-end  qc_fastp_single-end  reports\n"
     ]
    }
   ],
   "source": [
    "ls $HOME/tutorial-data/kallisto-bulk/analyses/fastp"
   ]
  },
  {
   "cell_type": "markdown",
   "metadata": {},
   "source": [
    "let's change into this directory and organize our data:"
   ]
  },
  {
   "cell_type": "code",
   "execution_count": 83,
   "metadata": {},
   "outputs": [],
   "source": [
    "cd $HOME/tutorial-data/kallisto-bulk/analyses/fastp"
   ]
  },
  {
   "cell_type": "code",
   "execution_count": 84,
   "metadata": {},
   "outputs": [],
   "source": [
    "mkdir qc_fastp_paired-end qc_fastp_single-end"
   ]
  },
  {
   "cell_type": "code",
   "execution_count": 85,
   "metadata": {},
   "outputs": [],
   "source": [
    "mv fastp_SRR3194428_1.fastq.gz fastp_SRR3194429_1.fastq.gz fastp_SRR3194430_1.fastq.gz fastp_SRR3194431_1.fastq.gz -t ./qc_fastp_single-end"
   ]
  },
  {
   "cell_type": "code",
   "execution_count": 86,
   "metadata": {},
   "outputs": [],
   "source": [
    "mv *.fastq.gz ./qc_fastp_paired-end"
   ]
  },
  {
   "cell_type": "code",
   "execution_count": 38,
   "metadata": {},
   "outputs": [
    {
     "name": "stdout",
     "output_type": "stream",
     "text": [
      ".:\n",
      "fastp_SRR3194428_1.fastq.gz  fastp_SRR3194430_1.fastq.gz\n",
      "fastp_SRR3194429_1.fastq.gz  fastp_SRR3194431_1.fastq.gz\n"
     ]
    }
   ],
   "source": [
    "ls -R"
   ]
  },
  {
   "cell_type": "markdown",
   "metadata": {},
   "source": [
    "### Obtain reference transcriptome\n",
    "\n",
    "We obtained the human reference transcriptome data from [Ensemble](https://uswest.ensembl.org/Homo_sapiens/Info/Index). Specifically, we want the set of cDNAs available from the [ftp site](ftp://ftp.ensembl.org/pub/release-94/fasta/homo_sapiens/cdna/). Those data are available here:"
   ]
  },
  {
   "cell_type": "code",
   "execution_count": 1,
   "metadata": {},
   "outputs": [
    {
     "name": "stdout",
     "output_type": "stream",
     "text": [
      "Homo_sapiens.GRCh38.cdna.all.fa.gz  Readme.md\n"
     ]
    }
   ],
   "source": [
    "ls $HOME/tutorial-data/kallisto-bulk/data/transcriptomes"
   ]
  },
  {
   "cell_type": "markdown",
   "metadata": {},
   "source": [
    "### Using Kallisto to index the transcriptome\n",
    "\n",
    "We will now use Kallisto's indexing function to prepare the transcriptome for analysis. First let's organize our files:"
   ]
  },
  {
   "cell_type": "code",
   "execution_count": 64,
   "metadata": {},
   "outputs": [
    {
     "name": "stdout",
     "output_type": "stream",
     "text": [
      "mkdir: cannot create directory ‘/home/tutorial-user/tutorial-data/kallisto-bulk/indicies’: File exists\n"
     ]
    },
    {
     "ename": "",
     "evalue": "1",
     "output_type": "error",
     "traceback": []
    }
   ],
   "source": [
    "mkdir $HOME/tutorial-data/kallisto-bulk/indicies"
   ]
  },
  {
   "cell_type": "code",
   "execution_count": 6,
   "metadata": {},
   "outputs": [
    {
     "name": "stdout",
     "output_type": "stream",
     "text": [
      "analyses  data  indicies  processed\n"
     ]
    }
   ],
   "source": [
    "ls $HOME/tutorial-data/kallisto-bulk/"
   ]
  },
  {
   "cell_type": "markdown",
   "metadata": {},
   "source": [
    "Let's change into the indicies directory where we will want to keep the index of our human transcriptome:"
   ]
  },
  {
   "cell_type": "code",
   "execution_count": 7,
   "metadata": {},
   "outputs": [],
   "source": [
    "cd $HOME/tutorial-data/kallisto-bulk/indicies"
   ]
  },
  {
   "cell_type": "markdown",
   "metadata": {},
   "source": [
    "Now we are finally ready to use kallisto. Let's check that Kallisto is installed, check it's version, and get a little help:"
   ]
  },
  {
   "cell_type": "code",
   "execution_count": 3,
   "metadata": {},
   "outputs": [
    {
     "name": "stdout",
     "output_type": "stream",
     "text": [
      "kallisto 0.44.0\n",
      "\n",
      "Usage: kallisto <CMD> [arguments] ..\n",
      "\n",
      "Where <CMD> can be one of:\n",
      "\n",
      "    index         Builds a kallisto index \n",
      "    quant         Runs the quantification algorithm \n",
      "    bus           Generate BUS files for single cell data \n",
      "    pseudo        Runs the pseudoalignment step \n",
      "    merge         Merges several batch runs \n",
      "    h5dump        Converts HDF5-formatted results to plaintext\n",
      "    inspect       Inspects and gives information about an index\n",
      "    version       Prints version information\n",
      "    cite          Prints citation information\n",
      "\n",
      "Running kallisto <CMD> without arguments prints usage information for <CMD>\n",
      "\n"
     ]
    },
    {
     "ename": "",
     "evalue": "1",
     "output_type": "error",
     "traceback": []
    }
   ],
   "source": [
    "kallisto"
   ]
  },
  {
   "cell_type": "markdown",
   "metadata": {},
   "source": [
    "Next run the indexing command (5-7 minutes). This prepares the transcriptome so that we can peudoalign reads to it. "
   ]
  },
  {
   "cell_type": "code",
   "execution_count": 8,
   "metadata": {},
   "outputs": [
    {
     "name": "stdout",
     "output_type": "stream",
     "text": [
      "\n",
      "[build] loading fasta file /home/tutorial-user/tutorial-data/kallisto-bulk/data/transcriptomes/Homo_sapiens.GRCh38.cdna.all.fa.gz\n",
      "[build] k-mer length: 31\n",
      "[build] warning: clipped off poly-A tail (longer than 10)\n",
      "        from 1471 target sequences\n",
      "[build] warning: replaced 5 non-ACGUT characters in the input sequence\n",
      "        with pseudorandom nucleotides\n",
      "[build] counting k-mers ... done.\n",
      "[build] building target de Bruijn graph ...  done \n",
      "[build] creating equivalence classes ...  done\n",
      "[build] target de Bruijn graph has 1118780 contigs and contains 108619921 k-mers \n",
      "\n"
     ]
    }
   ],
   "source": [
    "kallisto index --index=\"human_GRCh38_transcriptome_index\" $HOME/tutorial-data/kallisto-bulk/data/transcriptomes/Homo_sapiens.GRCh38.cdna.all.fa.gz"
   ]
  },
  {
   "cell_type": "markdown",
   "metadata": {},
   "source": [
    "We now have a transcriptome index which can now be used for pseudoalignment. As long as we intend to use this version of the transcriptome, we can use this index for all our future Kallisto experiments - no need to index again."
   ]
  },
  {
   "cell_type": "code",
   "execution_count": 9,
   "metadata": {},
   "outputs": [
    {
     "name": "stdout",
     "output_type": "stream",
     "text": [
      "human_GRCh38_transcriptome_index\n"
     ]
    }
   ],
   "source": [
    "ls"
   ]
  },
  {
   "cell_type": "markdown",
   "metadata": {},
   "source": [
    "### Quantify reads\n",
    "\n",
    "In this final step, we will run Kallisto on all of our files to quantify the reads. We will create a directory and then write some bash shell for loops to run kallisto independently on each read file (single-end) or pair of read files (paired-end). "
   ]
  },
  {
   "cell_type": "code",
   "execution_count": 15,
   "metadata": {},
   "outputs": [],
   "source": [
    "mkdir $HOME/tutorial-data/kallisto-bulk/analyses/kallisto-quantification"
   ]
  },
  {
   "cell_type": "code",
   "execution_count": 16,
   "metadata": {},
   "outputs": [],
   "source": [
    "cd $HOME/tutorial-data/kallisto-bulk/analyses/kallisto-quantification"
   ]
  },
  {
   "cell_type": "markdown",
   "metadata": {},
   "source": [
    "All instructions for the commands we are using are in the Kallisto manual: https://pachterlab.github.io/kallisto/manual. \n",
    "\n",
    "\n",
    "MOAR\n",
    "\n",
    "\n"
   ]
  },
  {
   "cell_type": "markdown",
   "metadata": {},
   "source": [
    "First, let's do the analysis of the single-end reads, based on the parameters use in the paper"
   ]
  },
  {
   "cell_type": "code",
   "execution_count": 24,
   "metadata": {
    "scrolled": true
   },
   "outputs": [
    {
     "name": "stdout",
     "output_type": "stream",
     "text": [
      "\n",
      "[quant] fragment length distribution is truncated gaussian with mean = 187, sd = 70\n",
      "[index] k-mer length: 31\n",
      "[index] number of targets: 187,626\n",
      "[index] number of k-mers: 108,619,921\n",
      "[index] number of equivalence classes: 752,021\n",
      "[quant] running in single-end mode\n",
      "[quant] will process file 1: fastp_SRR3194428_1.fastq.gz\n",
      "[quant] finding pseudoalignments for the reads ... done\n",
      "[quant] processed 71,471,164 reads, 55,641,327 reads pseudoaligned\n",
      "[   em] quantifying the abundances ... done\n",
      "[   em] the Expectation-Maximization algorithm ran for 1,514 rounds\n",
      "[bstrp] number of EM bootstraps complete: 100\n",
      "\n",
      "\n",
      "[quant] fragment length distribution is truncated gaussian with mean = 187, sd = 70\n",
      "[index] k-mer length: 31\n",
      "[index] number of targets: 187,626\n",
      "[index] number of k-mers: 108,619,921\n",
      "[index] number of equivalence classes: 752,021\n",
      "[quant] running in single-end mode\n",
      "[quant] will process file 1: fastp_SRR3194429_1.fastq.gz\n",
      "[quant] finding pseudoalignments for the reads ... done\n",
      "[quant] processed 92,705,772 reads, 72,954,638 reads pseudoaligned\n",
      "[   em] quantifying the abundances ... done\n",
      "[   em] the Expectation-Maximization algorithm ran for 1,317 rounds\n",
      "[bstrp] number of EM bootstraps complete: 100\n",
      "\n",
      "\n",
      "[quant] fragment length distribution is truncated gaussian with mean = 187, sd = 70\n",
      "[index] k-mer length: 31\n",
      "[index] number of targets: 187,626\n",
      "[index] number of k-mers: 108,619,921\n",
      "[index] number of equivalence classes: 752,021\n",
      "[quant] running in single-end mode\n",
      "[quant] will process file 1: fastp_SRR3194430_1.fastq.gz\n",
      "[quant] finding pseudoalignments for the reads ... done\n",
      "[quant] processed 74,424,059 reads, 56,756,563 reads pseudoaligned\n",
      "[   em] quantifying the abundances ... done\n",
      "[   em] the Expectation-Maximization algorithm ran for 1,448 rounds\n",
      "[bstrp] number of EM bootstraps complete: 100\n",
      "\n",
      "\n",
      "[quant] fragment length distribution is truncated gaussian with mean = 187, sd = 70\n",
      "[index] k-mer length: 31\n",
      "[index] number of targets: 187,626\n",
      "[index] number of k-mers: 108,619,921\n",
      "[index] number of equivalence classes: 752,021\n",
      "[quant] running in single-end mode\n",
      "[quant] will process file 1: fastp_SRR3194431_1.fastq.gz\n",
      "[quant] finding pseudoalignments for the reads ... done\n",
      "[quant] processed 64,907,565 reads, 49,592,931 reads pseudoaligned\n",
      "[   em] quantifying the abundances ... done\n",
      "[   em] the Expectation-Maximization algorithm ran for 1,501 rounds\n",
      "[bstrp] number of EM bootstraps complete: 100\n",
      "\n"
     ]
    }
   ],
   "source": [
    "cd $HOME/tutorial-data/kallisto-bulk/analyses/fastp/qc_fastp_single-end\n",
    "for file in *.fastq.gz; do output=\"${file%.*.*}\"_quant; kallisto quant\\\n",
    " --threads=4\\\n",
    " --single\\\n",
    " --index=$HOME/tutorial-data/kallisto-bulk/indicies/human_GRCh38_transcriptome_index\\\n",
    " --bootstrap-samples=100\\\n",
    " --fragment-length=187\\\n",
    " --sd=70\\\n",
    " --output-dir=$output\\\n",
    " $file; done"
   ]
  },
  {
   "cell_type": "markdown",
   "metadata": {},
   "source": [
    "Now we should have four folders containing results of our quantification of the single-end reads:"
   ]
  },
  {
   "cell_type": "code",
   "execution_count": 25,
   "metadata": {
    "scrolled": true
   },
   "outputs": [
    {
     "name": "stdout",
     "output_type": "stream",
     "text": [
      "fastp_SRR3194428_1.fastq.gz  fastp_SRR3194430_1.fastq.gz\n",
      "fastp_SRR3194428_1_quant     fastp_SRR3194430_1_quant\n",
      "fastp_SRR3194429_1.fastq.gz  fastp_SRR3194431_1.fastq.gz\n",
      "fastp_SRR3194429_1_quant     fastp_SRR3194431_1_quant\n"
     ]
    }
   ],
   "source": [
    "ls $HOME/tutorial-data/kallisto-bulk/analyses/fastp/qc_fastp_single-end"
   ]
  },
  {
   "cell_type": "markdown",
   "metadata": {},
   "source": [
    "Let's move the folders to our analyses folder:"
   ]
  },
  {
   "cell_type": "code",
   "execution_count": 26,
   "metadata": {},
   "outputs": [],
   "source": [
    "mv $HOME/tutorial-data/kallisto-bulk/analyses/fastp/qc_fastp_single-end/*/ $HOME/tutorial-data/kallisto-bulk/analyses/kallisto-quantification"
   ]
  },
  {
   "cell_type": "code",
   "execution_count": 39,
   "metadata": {
    "scrolled": false
   },
   "outputs": [
    {
     "name": "stdout",
     "output_type": "stream",
     "text": [
      "\n",
      "[quant] fragment length distribution will be estimated from the data\n",
      "[index] k-mer length: 31\n",
      "[index] number of targets: 187,626\n",
      "[index] number of k-mers: 108,619,921\n",
      "[index] number of equivalence classes: 752,021\n",
      "[quant] running in paired-end mode\n",
      "[quant] will process pair 1: fastp_SRR3191542_1.fastq.gz\n",
      "                             fastp_SRR3191542_2.fastq.gz\n",
      "[bstrp] number of EM bootstraps complete: 100\n",
      "\n",
      "\n",
      "[quant] fragment length distribution will be estimated from the data\n",
      "[index] k-mer length: 31\n",
      "[index] number of targets: 187,626\n",
      "[index] number of k-mers: 108,619,921\n",
      "[index] number of equivalence classes: 752,021\n",
      "[quant] running in paired-end mode\n",
      "[quant] will process pair 1: fastp_SRR3191543_1.fastq.gz\n",
      "                             fastp_SRR3191543_2.fastq.gz\n",
      "[quant] finding pseudoalignments for the reads ... done\n",
      "[quant] processed 7,207,925 reads, 5,916,664 reads pseudoaligned\n",
      "[quant] estimated average fragment length: 178.473\n",
      "[   em] quantifying the abundances ... done\n",
      "[   em] the Expectation-Maximization algorithm ran for 1,116 rounds\n",
      "[bstrp] number of EM bootstraps complete: 100\n",
      "\n",
      "\n",
      "[quant] fragment length distribution will be estimated from the data\n",
      "[index] k-mer length: 31\n",
      "[index] number of targets: 187,626\n",
      "[index] number of k-mers: 108,619,921\n",
      "[index] number of equivalence classes: 752,021\n",
      "[quant] running in paired-end mode\n",
      "[quant] will process pair 1: fastp_SRR3191544_1.fastq.gz\n",
      "                             fastp_SRR3191544_2.fastq.gz\n",
      "[quant] finding pseudoalignments for the reads ... done\n",
      "[quant] processed 7,265,148 reads, 5,810,485 reads pseudoaligned\n",
      "[quant] estimated average fragment length: 179.01\n",
      "[   em] quantifying the abundances ... done\n",
      "[   em] the Expectation-Maximization algorithm ran for 1,006 rounds\n",
      "[bstrp] number of EM bootstraps complete: 100\n",
      "\n",
      "\n",
      "[quant] fragment length distribution will be estimated from the data\n",
      "[index] k-mer length: 31\n",
      "[index] number of targets: 187,626\n",
      "[index] number of k-mers: 108,619,921\n",
      "[index] number of equivalence classes: 752,021\n",
      "[quant] running in paired-end mode\n",
      "[quant] will process pair 1: fastp_SRR3191545_1.fastq.gz\n",
      "                             fastp_SRR3191545_2.fastq.gz\n",
      "[quant] finding pseudoalignments for the reads ... done\n",
      "[quant] processed 7,506,637 reads, 6,022,030 reads pseudoaligned\n",
      "[quant] estimated average fragment length: 177.005\n",
      "[   em] quantifying the abundances ... done\n",
      "[   em] the Expectation-Maximization algorithm ran for 1,075 rounds\n",
      "[bstrp] number of EM bootstraps complete: 100\n",
      "\n"
     ]
    }
   ],
   "source": [
    "cd $HOME/tutorial-data/kallisto-bulk/analyses/fastp/qc_fastp_paired-end\n",
    "for file in *_1.fastq.gz; do re1input=$file;\\\n",
    " re2input=fastp_$(echo $file|cut -f2 -d _)_2.fastq.gz;\\\n",
    " output=\"${file%.*.*}\"_quant;\\\n",
    " output=fastp_$(echo $file|cut -f2 -d _)_quant;\\\n",
    " kallisto quant\\\n",
    " --threads=4\\\n",
    " --index=$HOME/tutorial-data/kallisto-bulk/indicies/human_GRCh38_transcriptome_index\\\n",
    " --bootstrap-samples=100\\\n",
    " --output-dir=$output\\\n",
    " $re1input $re2input;\\\n",
    " done"
   ]
  },
  {
   "cell_type": "markdown",
   "metadata": {},
   "source": [
    "We now will have 4 folders for the results of our paired-end quantification"
   ]
  },
  {
   "cell_type": "code",
   "execution_count": 40,
   "metadata": {},
   "outputs": [
    {
     "name": "stdout",
     "output_type": "stream",
     "text": [
      "fastp_SRR3191542_1.fastq.gz  fastp_SRR3191544_1.fastq.gz\n",
      "fastp_SRR3191542_2.fastq.gz  fastp_SRR3191544_2.fastq.gz\n",
      "fastp_SRR3191542_quant       fastp_SRR3191544_quant\n",
      "fastp_SRR3191543_1.fastq.gz  fastp_SRR3191545_1.fastq.gz\n",
      "fastp_SRR3191543_2.fastq.gz  fastp_SRR3191545_2.fastq.gz\n",
      "fastp_SRR3191543_quant       fastp_SRR3191545_quant\n"
     ]
    }
   ],
   "source": [
    "ls $HOME/tutorial-data/kallisto-bulk/analyses/fastp/qc_fastp_paired-end/"
   ]
  },
  {
   "cell_type": "markdown",
   "metadata": {},
   "source": [
    "Let's also move these to analyses, and verify all 8 samples are there"
   ]
  },
  {
   "cell_type": "code",
   "execution_count": 41,
   "metadata": {},
   "outputs": [],
   "source": [
    "mv $HOME/tutorial-data/kallisto-bulk/analyses/fastp/qc_fastp_paired-end/*/ $HOME/tutorial-data/kallisto-bulk/analyses/kallisto-quantification/"
   ]
  },
  {
   "cell_type": "code",
   "execution_count": 42,
   "metadata": {},
   "outputs": [
    {
     "name": "stdout",
     "output_type": "stream",
     "text": [
      "fastp_SRR3191542_quant  fastp_SRR3191545_quant    fastp_SRR3194430_1_quant\n",
      "fastp_SRR3191543_quant  fastp_SRR3194428_1_quant  fastp_SRR3194431_1_quant\n",
      "fastp_SRR3191544_quant  fastp_SRR3194429_1_quant\n"
     ]
    }
   ],
   "source": [
    "ls $HOME/tutorial-data/kallisto-bulk/analyses/kallisto-quantification/"
   ]
  },
  {
   "cell_type": "markdown",
   "metadata": {},
   "source": [
    "### Examining Kallisto Outputs"
   ]
  },
  {
   "cell_type": "markdown",
   "metadata": {},
   "source": [
    "Given the parameters we used, we expect the following outputs (as taken from the [kallisto manual](https://pachterlab.github.io/kallisto/manual)):\n",
    "\n",
    "- **abundances.h5**: HDF5 binary file containing run info, abundance esimates, bootstrap estimates, and transcript length information length. This file can be read in by sleuth\n",
    "- **abundances.tsv**: Plaintext file of the abundance estimates. It does not contains bootstrap estimates (but these can be output using the `--plaintext` argument. `kallisto h5dump` can be used to output an HDF5 file to plaintext. The first line contains a header for each column, including estimated counts, TPM, effective length.\n",
    "- **run_info.json**:json file containing information about the run\n",
    "\n",
    "Let's look at the first few lines of the abundences file in `SRR3191541_quant`:\n"
   ]
  },
  {
   "cell_type": "code",
   "execution_count": 43,
   "metadata": {},
   "outputs": [
    {
     "name": "stdout",
     "output_type": "stream",
     "text": [
      "target_id\tlength\teff_length\test_counts\ttpm\n",
      "ENST00000632684.1\t12\t7.2\t0\t0\n",
      "ENST00000434970.2\t9\t4.2\t0\t0\n",
      "ENST00000448914.1\t13\t8.2\t0\t0\n",
      "ENST00000415118.1\t8\t3.2\t0\t0\n",
      "ENST00000631435.1\t12\t7.2\t0\t0\n",
      "ENST00000390583.1\t31\t11.5882\t0\t0\n",
      "ENST00000390577.1\t37\t11.931\t0\t0\n",
      "ENST00000451044.1\t17\t10.5\t0\t0\n",
      "ENST00000390578.1\t31\t11.5882\t0\t0\n"
     ]
    }
   ],
   "source": [
    "head $HOME/tutorial-data/kallisto-bulk/analyses/kallisto-quantification/fastp_SRR3191542_quant/abundance.tsv"
   ]
  },
  {
   "cell_type": "markdown",
   "metadata": {},
   "source": [
    "We can also get information about the run in the json file"
   ]
  },
  {
   "cell_type": "code",
   "execution_count": 44,
   "metadata": {},
   "outputs": [
    {
     "name": "stdout",
     "output_type": "stream",
     "text": [
      "{\n",
      "\t\"n_targets\": 187626,\n",
      "\t\"n_bootstraps\": 100,\n",
      "\t\"n_processed\": 7837636,\n",
      "\t\"n_pseudoaligned\": 6375981,\n",
      "\t\"n_unique\": 1761917,\n",
      "\t\"p_pseudoaligned\": 81.4,\n",
      "\t\"p_unique\": 22.5,\n",
      "\t\"kallisto_version\": \"0.44.0\",\n",
      "\t\"index_version\": 10,\n",
      "\t\"start_time\": \"Wed Nov 28 00:07:35 2018\",\n",
      "\t\"call\": \"kallisto quant --threads=4 --index=/home/tutorial-user/tutorial-data/kallisto-bulk/indicies/human_GRCh38_transcriptome_index --bootstrap-samples=100 --output-dir=fastp_SRR3191542_quant fastp_SRR3191542_1.fastq.gz fastp_SRR3191542_2.fastq.gz\"\n",
      "}\n"
     ]
    }
   ],
   "source": [
    "cat $HOME/tutorial-data/kallisto-bulk/analyses/kallisto-quantification/fastp_SRR3191542_quant/run_info.json"
   ]
  }
 ],
 "metadata": {
  "kernelspec": {
   "display_name": "Bash",
   "language": "bash",
   "name": "bash"
  },
  "language_info": {
   "codemirror_mode": "shell",
   "file_extension": ".sh",
   "mimetype": "text/x-sh",
   "name": "bash"
  }
 },
 "nbformat": 4,
 "nbformat_minor": 2
}

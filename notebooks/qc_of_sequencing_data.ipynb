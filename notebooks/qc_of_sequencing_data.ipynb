{
 "cells": [
  {
   "cell_type": "code",
   "execution_count": 18,
   "metadata": {},
   "outputs": [
    {
     "name": "stdout",
     "output_type": "stream",
     "text": [
      "SRR3191541_1.fastq.gz\r\n"
     ]
    }
   ],
   "source": [
    "!ls ./tutorial-data/data/qc_examples/"
   ]
  },
  {
   "cell_type": "code",
   "execution_count": 19,
   "metadata": {},
   "outputs": [
    {
     "name": "stdout",
     "output_type": "stream",
     "text": [
      "Started analysis of SRR3191541_1.fastq.gz\n",
      "Approx 5% complete for SRR3191541_1.fastq.gz\n",
      "Approx 10% complete for SRR3191541_1.fastq.gz\n",
      "Approx 15% complete for SRR3191541_1.fastq.gz\n",
      "Approx 20% complete for SRR3191541_1.fastq.gz\n",
      "Approx 25% complete for SRR3191541_1.fastq.gz\n",
      "Approx 30% complete for SRR3191541_1.fastq.gz\n",
      "Approx 35% complete for SRR3191541_1.fastq.gz\n",
      "Approx 40% complete for SRR3191541_1.fastq.gz\n",
      "Approx 45% complete for SRR3191541_1.fastq.gz\n",
      "Approx 50% complete for SRR3191541_1.fastq.gz\n",
      "Approx 55% complete for SRR3191541_1.fastq.gz\n",
      "Approx 60% complete for SRR3191541_1.fastq.gz\n",
      "Approx 65% complete for SRR3191541_1.fastq.gz\n",
      "Approx 70% complete for SRR3191541_1.fastq.gz\n",
      "Approx 75% complete for SRR3191541_1.fastq.gz\n",
      "Approx 80% complete for SRR3191541_1.fastq.gz\n",
      "Approx 85% complete for SRR3191541_1.fastq.gz\n",
      "Approx 90% complete for SRR3191541_1.fastq.gz\n",
      "Approx 95% complete for SRR3191541_1.fastq.gz\n",
      "Analysis complete for SRR3191541_1.fastq.gz\n"
     ]
    }
   ],
   "source": [
    "!fastqc ./tutorial-data/data/qc_examples/SRR3191541_1.fastq.gz"
   ]
  },
  {
   "cell_type": "code",
   "execution_count": 22,
   "metadata": {},
   "outputs": [
    {
     "name": "stdout",
     "output_type": "stream",
     "text": [
      "SRR3191541_1_fastqc.html  SRR3191541_1_fastqc.zip  SRR3191541_1.fastq.gz\r\n"
     ]
    }
   ],
   "source": [
    "!ls ./tutorial-data/data/qc_examples/"
   ]
  },
  {
   "cell_type": "code",
   "execution_count": 28,
   "metadata": {
    "scrolled": true
   },
   "outputs": [
    {
     "data": {
      "text/html": [
       "<iframe width=\"100%\" height=\"550\" src=\"./tutorial-data/data/qc_examples/SRR3191541_1_fastqc.html\"></iframe>\n"
      ],
      "text/plain": [
       "<IPython.core.display.HTML object>"
      ]
     },
     "metadata": {},
     "output_type": "display_data"
    }
   ],
   "source": [
    "%%HTML\n",
    "<iframe width=\"100%\" height=\"550\" src=\"./tutorial-data/data/qc_examples/SRR3191541_1_fastqc.html\"></iframe>"
   ]
  },
  {
   "cell_type": "code",
   "execution_count": 29,
   "metadata": {},
   "outputs": [
    {
     "name": "stdout",
     "output_type": "stream",
     "text": [
      "Read1 before filtering:\n",
      "total reads: 469586\n",
      "total bases: 117866086\n",
      "Q20 bases: 109142247(92.5985%)\n",
      "Q30 bases: 107132506(90.8934%)\n",
      "\n",
      "Read1 after filtering:\n",
      "total reads: 469576\n",
      "total bases: 117863576\n",
      "Q20 bases: 109140769(92.5992%)\n",
      "Q30 bases: 107131249(90.8943%)\n",
      "\n",
      "Filtering result:\n",
      "reads passed filter: 469576\n",
      "reads failed due to low quality: 0\n",
      "reads failed due to too many N: 0\n",
      "reads failed due to low complexity: 10\n",
      "\n",
      "Duplication rate (may be overestimated since this is SE data): 2.913%\n",
      "\n",
      "JSON report: fastp.json\n",
      "HTML report: fastp.html\n",
      "\n",
      "fastp -QLyAG -i ./tutorial-data/data/qc_examples/SRR3191541_1.fastq.gz -o -i ./tutorial-data/data/qc_examples/fastp.SRR3191541_1.fastq.gz \n",
      "fastp v0.19.3, time used: 2 seconds\n"
     ]
    }
   ],
   "source": [
    "!fastp -QLyAG -i ./tutorial-data/data/qc_examples/SRR3191541_1.fastq.gz -o -i ./tutorial-data/data/qc_examples/fastp.SRR3191541_1.fastq.gz"
   ]
  },
  {
   "cell_type": "code",
   "execution_count": 32,
   "metadata": {},
   "outputs": [
    {
     "name": "stdout",
     "output_type": "stream",
     "text": [
      " fastp.html   -i\t\t       'sequence qc python.ipynb'\r\n",
      " fastp.json  'Sequence QC bash.ipynb'   tutorial-data\r\n"
     ]
    }
   ],
   "source": [
    "!ls "
   ]
  },
  {
   "cell_type": "code",
   "execution_count": 31,
   "metadata": {},
   "outputs": [
    {
     "data": {
      "text/html": [
       "<iframe width=\"100%\" height=\"600\" src=\"fastp.html\"></iframe>\n"
      ],
      "text/plain": [
       "<IPython.core.display.HTML object>"
      ]
     },
     "metadata": {},
     "output_type": "display_data"
    }
   ],
   "source": [
    "%%HTML\n",
    "<iframe width=\"100%\" height=\"600\" src=\"fastp.html\"></iframe>"
   ]
  },
  {
   "cell_type": "code",
   "execution_count": 33,
   "metadata": {},
   "outputs": [],
   "source": [
    "!rm fastp*"
   ]
  },
  {
   "cell_type": "code",
   "execution_count": 34,
   "metadata": {},
   "outputs": [
    {
     "name": "stdout",
     "output_type": "stream",
     "text": [
      " -i  'Sequence QC bash.ipynb'  'sequence qc python.ipynb'   tutorial-data\r\n"
     ]
    }
   ],
   "source": [
    "!ls"
   ]
  },
  {
   "cell_type": "code",
   "execution_count": null,
   "metadata": {},
   "outputs": [],
   "source": []
  }
 ],
 "metadata": {
  "kernelspec": {
   "display_name": "Python 3",
   "language": "python",
   "name": "python3"
  },
  "language_info": {
   "codemirror_mode": {
    "name": "ipython",
    "version": 3
   },
   "file_extension": ".py",
   "mimetype": "text/x-python",
   "name": "python",
   "nbconvert_exporter": "python",
   "pygments_lexer": "ipython3",
   "version": "3.6.7"
  }
 },
 "nbformat": 4,
 "nbformat_minor": 2
}

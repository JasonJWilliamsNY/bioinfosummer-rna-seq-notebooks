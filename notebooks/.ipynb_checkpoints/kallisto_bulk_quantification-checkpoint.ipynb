{
 "cells": [
  {
   "cell_type": "markdown",
   "metadata": {},
   "source": [
    "# RNA-Seq from scratch - Kallisto"
   ]
  },
  {
   "cell_type": "markdown",
   "metadata": {},
   "source": [
    "Notes on the example data and experiment"
   ]
  },
  {
   "cell_type": "markdown",
   "metadata": {},
   "source": [
    "## Organizing our inputs"
   ]
  },
  {
   "cell_type": "markdown",
   "metadata": {},
   "source": [
    "Kallisto requires just a few simple things to run \n",
    "\n",
    "- A reference transcriptome\n",
    "- FastQ files (your sequence data)\n",
    "\n",
    "Since we already have this data available on the computers you are connecting to, let's find, inspect, and organize it"
   ]
  },
  {
   "cell_type": "markdown",
   "metadata": {},
   "source": [
    "## Organizing files and directories"
   ]
  },
  {
   "cell_type": "markdown",
   "metadata": {},
   "source": [
    "This notebook is running the bash shell. We could run all of these commands from the terminal, and if you run these on a terminal on your own after the workshop the commands will be similar (the locations of your files may be different)"
   ]
  },
  {
   "cell_type": "markdown",
   "metadata": {},
   "source": [
    "### Get the working directory and set the locations of files\n",
    "\n",
    "First, let's go to our home directory. If you ever get lost there is no place like home:"
   ]
  },
  {
   "cell_type": "code",
   "execution_count": 2,
   "metadata": {},
   "outputs": [],
   "source": [
    "cd"
   ]
  },
  {
   "cell_type": "markdown",
   "metadata": {},
   "source": [
    "Let's see the contents of our home directory"
   ]
  },
  {
   "cell_type": "code",
   "execution_count": 4,
   "metadata": {},
   "outputs": [
    {
     "name": "stdout",
     "output_type": "stream",
     "text": [
      "-i  kallisto-rnaseq-jupyter  notebooks  tutorial-data\n"
     ]
    }
   ],
   "source": [
    "ls"
   ]
  },
  {
   "cell_type": "markdown",
   "metadata": {},
   "source": [
    "All of the data we need for our bulk RNA-Seq experiment should be in the `tutorial-data` folder; let's inspect its contents:"
   ]
  },
  {
   "cell_type": "code",
   "execution_count": 6,
   "metadata": {},
   "outputs": [
    {
     "name": "stdout",
     "output_type": "stream",
     "text": [
      "data           kallisto_bulk_rna-seq_ouputs  kallisto-single-cell\n",
      "kallisto-bulk  kallisto_sc_rna-seq_ouputs    processed_files\n"
     ]
    }
   ],
   "source": [
    "ls ./tutorial-data"
   ]
  },
  {
   "cell_type": "markdown",
   "metadata": {},
   "source": [
    "For this experiment, all of our input data files will be in the `kallisto-bulk/data` folder: "
   ]
  },
  {
   "cell_type": "code",
   "execution_count": 8,
   "metadata": {},
   "outputs": [
    {
     "name": "stdout",
     "output_type": "stream",
     "text": [
      "fastq_files  hnpc_SRA_accessions.txt  study_design  transcriptomes\n"
     ]
    }
   ],
   "source": [
    "ls ./tutorial-data/kallisto-bulk/data"
   ]
  },
  {
   "cell_type": "markdown",
   "metadata": {},
   "source": [
    "The `fastq_files` directory contains data generated from the example experiment"
   ]
  },
  {
   "cell_type": "code",
   "execution_count": 10,
   "metadata": {},
   "outputs": [
    {
     "name": "stdout",
     "output_type": "stream",
     "text": [
      "SRR3191541_1.fastq.gz  SRR3191544_1.fastq.gz  SRR3194428_1.fastq.gz\n",
      "SRR3191541_2.fastq.gz  SRR3191544_2.fastq.gz  SRR3194429_1.fastq.gz\n",
      "SRR3191543_1.fastq.gz  SRR3191545_1.fastq.gz  SRR3194430_1.fastq.gz\n",
      "SRR3191543_2.fastq.gz  SRR3191545_2.fastq.gz  SRR3194431_1.fastq.gz\n"
     ]
    }
   ],
   "source": [
    "ls ./tutorial-data/kallisto-bulk/data/fastq_files"
   ]
  },
  {
   "cell_type": "markdown",
   "metadata": {},
   "source": [
    "If you remember in the previous exercise, we have already done some quality control on these files. Rather than repeat this let's move those QC files to this directory. First though, let's separate files into the set that was paired-end sequenced, and the set that was single-end. A file in the `study_design` folder hass this information:"
   ]
  },
  {
   "cell_type": "code",
   "execution_count": 13,
   "metadata": {},
   "outputs": [
    {
     "name": "stdout",
     "output_type": "stream",
     "text": [
      "﻿,sample,condition,read,fragments,Instrument,LoadDate\n",
      "1,SRR3191542,mock,paired,7927777,Illumina MiSeq,2016-02-26\n",
      "2,SRR3191543,mock,paired,7391076,Illumina MiSeq,2016-02-26\n",
      "3,SRR3191544,zika,paired,7361527,Illumina MiSeq,2016-02-26\n",
      "4,SRR3191545,zika,paired,7621347,Illumina MiSeq,2016-02-26\n",
      "5,SRR3194428,mock,single,72983243,NextSeq 500,2016-02-29\n",
      "6,SRR3194429,mock,single,94729809,NextSeq 500,2016-02-29\n",
      "7,SRR3194430,zika,single,71055823,NextSeq 500,2016-02-29\n",
      "8,SRR3194431,zika,single,66528035,NextSeq 500,2016-02-29"
     ]
    }
   ],
   "source": [
    "cat ./tutorial-data/kallisto-bulk/data/study_design/zikadesignmatrix.csv"
   ]
  },
  {
   "cell_type": "markdown",
   "metadata": {},
   "source": [
    "Samples `SRR3194428`, `SRR3194429`, `SRR3194430`, and `SRR3194431` are single-end sequenced, so we will move the coresponding fastq files into their own directories:"
   ]
  },
  {
   "cell_type": "code",
   "execution_count": 17,
   "metadata": {},
   "outputs": [],
   "source": [
    "mkdir ./tutorial-data/kallisto-bulk/data/fastq_files/single-end ./tutorial-data/kallisto-bulk/data/fastq_files/paired-end "
   ]
  },
  {
   "cell_type": "markdown",
   "metadata": {},
   "source": [
    "We now have two new directories"
   ]
  },
  {
   "cell_type": "code",
   "execution_count": 20,
   "metadata": {},
   "outputs": [
    {
     "name": "stdout",
     "output_type": "stream",
     "text": [
      "paired-end             SRR3191543_2.fastq.gz  SRR3194428_1.fastq.gz\n",
      "single-end             SRR3191544_1.fastq.gz  SRR3194429_1.fastq.gz\n",
      "SRR3191541_1.fastq.gz  SRR3191544_2.fastq.gz  SRR3194430_1.fastq.gz\n",
      "SRR3191541_2.fastq.gz  SRR3191545_1.fastq.gz  SRR3194431_1.fastq.gz\n",
      "SRR3191543_1.fastq.gz  SRR3191545_2.fastq.gz\n"
     ]
    }
   ],
   "source": [
    "ls ./tutorial-data/kallisto-bulk/data/fastq_files"
   ]
  },
  {
   "cell_type": "markdown",
   "metadata": {},
   "source": [
    "Let's change into this directory so our commands don't too long"
   ]
  },
  {
   "cell_type": "code",
   "execution_count": 22,
   "metadata": {},
   "outputs": [],
   "source": [
    "cd ./tutorial-data/kallisto-bulk/data/fastq_files/"
   ]
  },
  {
   "cell_type": "markdown",
   "metadata": {},
   "source": [
    "Now we can move the desired files"
   ]
  },
  {
   "cell_type": "code",
   "execution_count": 23,
   "metadata": {},
   "outputs": [],
   "source": [
    "mv SRR3194428_1.fastq.gz SRR3194429_1.fastq.gz SRR3194430_1.fastq.gz SRR3194431_1.fastq.gz -t ./single-end"
   ]
  },
  {
   "cell_type": "markdown",
   "metadata": {},
   "source": [
    "and we can move the paired-end files as well"
   ]
  },
  {
   "cell_type": "code",
   "execution_count": 24,
   "metadata": {
    "scrolled": true
   },
   "outputs": [
    {
     "name": "stdout",
     "output_type": "stream",
     "text": [
      "mv: cannot move 'paired-end' to a subdirectory of itself, './paired-end/paired-end'\n",
      "mv: cannot stat '.fastq.gz': No such file or directory\n"
     ]
    },
    {
     "ename": "",
     "evalue": "1",
     "output_type": "error",
     "traceback": []
    }
   ],
   "source": [
    "mv *.fastq.gz ./paired-end"
   ]
  },
  {
   "cell_type": "markdown",
   "metadata": {},
   "source": [
    "Now we can see that the contents of both folders contain the appropriate sequences"
   ]
  },
  {
   "cell_type": "code",
   "execution_count": 34,
   "metadata": {
    "scrolled": true
   },
   "outputs": [
    {
     "name": "stdout",
     "output_type": "stream",
     "text": [
      ".:\n",
      "paired-end  single-end\n",
      "\n",
      "./paired-end:\n",
      "SRR3191541_1.fastq.gz  SRR3191543_2.fastq.gz  SRR3191545_1.fastq.gz\n",
      "SRR3191541_2.fastq.gz  SRR3191544_1.fastq.gz  SRR3191545_2.fastq.gz\n",
      "SRR3191543_1.fastq.gz  SRR3191544_2.fastq.gz\n",
      "\n",
      "./single-end:\n",
      "SRR3194428_1.fastq.gz  SRR3194430_1.fastq.gz\n",
      "SRR3194429_1.fastq.gz  SRR3194431_1.fastq.gz\n"
     ]
    }
   ],
   "source": [
    "ls -R"
   ]
  },
  {
   "cell_type": "code",
   "execution_count": null,
   "metadata": {},
   "outputs": [],
   "source": []
  },
  {
   "cell_type": "markdown",
   "metadata": {},
   "source": [
    "### Import transcriptome data\n",
    "\n",
    "We obtained the human reference transcriptome data from [Ensemble](https://uswest.ensembl.org/Homo_sapiens/Info/Index). Specifically, we want the set of cDNAs available from the [ftp site](). "
   ]
  },
  {
   "cell_type": "code",
   "execution_count": 18,
   "metadata": {},
   "outputs": [
    {
     "name": "stdout",
     "output_type": "stream",
     "text": [
      "--2018-11-27 01:40:38--  ftp://ftp.ensemblgenomes.org/pub/plants/release-39/fasta/arabidopsis_thaliana/cdna/Arabidopsis_thaliana.TAIR10.cdna.all.fa.gz\n",
      "           => ‘Arabidopsis_thaliana.TAIR10.cdna.all.fa.gz’\n",
      "Resolving ftp.ensemblgenomes.org (ftp.ensemblgenomes.org)... failed: Name or service not known.\n",
      "wget: unable to resolve host address ‘ftp.ensemblgenomes.org’\n"
     ]
    },
    {
     "ename": "",
     "evalue": "4",
     "output_type": "error",
     "traceback": []
    }
   ],
   "source": [
    "wget ftp://ftp.ensemblgenomes.org/pub/plants/release-39/fasta/arabidopsis_thaliana/cdna/Arabidopsis_thaliana.TAIR10.cdna.all.fa.gz"
   ]
  },
  {
   "cell_type": "markdown",
   "metadata": {},
   "source": [
    "Verify the the checksum of the downloaded file with the [publushed sum](ftp://ftp.ensemblgenomes.org/pub/plants/release-39/fasta/arabidopsis_thaliana/cdna/CHECKSUMS)"
   ]
  },
  {
   "cell_type": "code",
   "execution_count": null,
   "metadata": {},
   "outputs": [],
   "source": [
    "sum Arabidopsis_thaliana.TAIR10.cdna.all.fa.gz"
   ]
  },
  {
   "cell_type": "markdown",
   "metadata": {},
   "source": [
    "Let's also organize our downloaded data"
   ]
  },
  {
   "cell_type": "code",
   "execution_count": null,
   "metadata": {},
   "outputs": [],
   "source": [
    "mkdir transcriptome && mv Arabidopsis_thaliana.TAIR10.cdna.all.fa.gz transcriptome"
   ]
  },
  {
   "cell_type": "markdown",
   "metadata": {},
   "source": [
    "### Index transcriptome\n",
    "\n",
    "We will now use Kallisto's indexing function to prepare the transcriptome for analysis. First let's organize our files:"
   ]
  },
  {
   "cell_type": "code",
   "execution_count": null,
   "metadata": {},
   "outputs": [],
   "source": [
    "mkdir $HOME/analysis"
   ]
  },
  {
   "cell_type": "markdown",
   "metadata": {},
   "source": [
    "Next run the indexing command. This prepares the transcriptome so that we can peudoalign reads to it. "
   ]
  },
  {
   "cell_type": "code",
   "execution_count": null,
   "metadata": {},
   "outputs": [],
   "source": [
    "kallisto index --index=\"athalianaTAIR10_index\" $HOME/raw_data/transcriptome/Arabidopsis_thaliana.TAIR10.cdna.all.fa.gz"
   ]
  },
  {
   "cell_type": "markdown",
   "metadata": {},
   "source": [
    "We now have a transcriptome index which can now be used for pseudoalignment, we'll move it into the transcriptome folder:"
   ]
  },
  {
   "cell_type": "code",
   "execution_count": null,
   "metadata": {},
   "outputs": [],
   "source": [
    "mv athalianaTAIR10_index transcriptome/"
   ]
  },
  {
   "cell_type": "markdown",
   "metadata": {},
   "source": [
    "### Quantify reads\n",
    "\n",
    "In this final step, we will run Kallisto on all of our files to quantify the reads. We will write a for loop to do this. "
   ]
  },
  {
   "cell_type": "code",
   "execution_count": null,
   "metadata": {},
   "outputs": [],
   "source": [
    "pwd\n",
    "ls"
   ]
  },
  {
   "cell_type": "markdown",
   "metadata": {},
   "source": [
    "All instructions for the commands we are using are in the Kallisto manual: https://pachterlab.github.io/kallisto/manual. Since we are using single read data, we need to provide information on the fragment length used for the library (200) and an estimate of the standard deviation for this value - here we will have to guess (20). These values are derived from the the case where paired end sequence is provided. \n",
    "\n",
    "*If needed, the results for this are located on the CyVerse Data commons at (/iplant/home/shared/cyverse_training/datasets/PRJNA79729/kallisto_quantified) and on the Amazon AMI in the dcuser home directory in the `.quantfied` folder.* \n",
    "\n"
   ]
  },
  {
   "cell_type": "code",
   "execution_count": null,
   "metadata": {},
   "outputs": [],
   "source": [
    "cd $HOME/raw_data/fastq_files\n",
    "for file in *.fastq.gz; do output=\"${file%.*.*}\"_quant; kallisto quant\\\n",
    " --single\\\n",
    " --index=$HOME/raw_data/transcriptome/athalianaTAIR10_index\\\n",
    " --single\\\n",
    " --bootstrap-samples=25\\\n",
    " --fragment-length=200\\\n",
    " --sd=20\\\n",
    " --output-dir=$output\\\n",
    " $file; done"
   ]
  },
  {
   "cell_type": "markdown",
   "metadata": {},
   "source": [
    "Finally, we can move our results folders into our analysis folder:"
   ]
  },
  {
   "cell_type": "code",
   "execution_count": null,
   "metadata": {},
   "outputs": [],
   "source": [
    "mv $HOME/raw_data/fastq_files/*/ $HOME/analysis \n",
    "ls $HOME/analysis"
   ]
  }
 ],
 "metadata": {
  "kernelspec": {
   "display_name": "Bash",
   "language": "bash",
   "name": "bash"
  },
  "language_info": {
   "codemirror_mode": "shell",
   "file_extension": ".sh",
   "mimetype": "text/x-sh",
   "name": "bash"
  }
 },
 "nbformat": 4,
 "nbformat_minor": 2
}

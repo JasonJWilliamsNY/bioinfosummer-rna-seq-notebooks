{
 "cells": [
  {
   "cell_type": "code",
   "execution_count": 2,
   "metadata": {},
   "outputs": [
    {
     "name": "stdout",
     "output_type": "stream",
     "text": [
      "SRR3191542_1.fastq.gz  SRR3191542_2.fastq.gz\r\n"
     ]
    }
   ],
   "source": [
    "!ls $HOME/tutorial-data/qc_examples/"
   ]
  },
  {
   "cell_type": "code",
   "execution_count": 3,
   "metadata": {},
   "outputs": [
    {
     "name": "stdout",
     "output_type": "stream",
     "text": [
      "Started analysis of SRR3191542_1.fastq.gz\n",
      "Approx 5% complete for SRR3191542_1.fastq.gz\n",
      "Approx 10% complete for SRR3191542_1.fastq.gz\n",
      "Approx 15% complete for SRR3191542_1.fastq.gz\n",
      "Approx 20% complete for SRR3191542_1.fastq.gz\n",
      "Approx 25% complete for SRR3191542_1.fastq.gz\n",
      "Approx 30% complete for SRR3191542_1.fastq.gz\n",
      "Approx 35% complete for SRR3191542_1.fastq.gz\n",
      "Approx 40% complete for SRR3191542_1.fastq.gz\n",
      "Approx 45% complete for SRR3191542_1.fastq.gz\n",
      "Approx 50% complete for SRR3191542_1.fastq.gz\n",
      "Approx 55% complete for SRR3191542_1.fastq.gz\n",
      "Approx 60% complete for SRR3191542_1.fastq.gz\n",
      "Approx 65% complete for SRR3191542_1.fastq.gz\n",
      "Approx 70% complete for SRR3191542_1.fastq.gz\n",
      "Approx 75% complete for SRR3191542_1.fastq.gz\n",
      "Approx 80% complete for SRR3191542_1.fastq.gz\n",
      "Approx 85% complete for SRR3191542_1.fastq.gz\n",
      "Approx 90% complete for SRR3191542_1.fastq.gz\n",
      "Approx 95% complete for SRR3191542_1.fastq.gz\n",
      "Analysis complete for SRR3191542_1.fastq.gz\n"
     ]
    }
   ],
   "source": [
    "!fastqc $HOME/tutorial-data/qc_examples/SRR3191542_1.fastq.gz"
   ]
  },
  {
   "cell_type": "code",
   "execution_count": 4,
   "metadata": {},
   "outputs": [
    {
     "name": "stdout",
     "output_type": "stream",
     "text": [
      "SRR3191542_1_fastqc.html  SRR3191542_1.fastq.gz\r\n",
      "SRR3191542_1_fastqc.zip   SRR3191542_2.fastq.gz\r\n"
     ]
    }
   ],
   "source": [
    "!ls $HOME/tutorial-data/qc_examples"
   ]
  },
  {
   "cell_type": "code",
   "execution_count": 9,
   "metadata": {
    "scrolled": true
   },
   "outputs": [
    {
     "data": {
      "text/html": [
       "<iframe width=\"100%\" height=\"550\" src=\"/user/tutorial-user/view/tutorial-data/qc_examples/SRR3191542_1_fastqc.html\"></iframe>\n"
      ],
      "text/plain": [
       "<IPython.core.display.HTML object>"
      ]
     },
     "metadata": {},
     "output_type": "display_data"
    }
   ],
   "source": [
    "%%HTML\n",
    "<iframe width=\"100%\" height=\"550\" src=\"/user/tutorial-user/view/tutorial-data/qc_examples/SRR3191542_1_fastqc.html\"></iframe>"
   ]
  },
  {
   "cell_type": "code",
   "execution_count": 10,
   "metadata": {},
   "outputs": [
    {
     "name": "stdout",
     "output_type": "stream",
     "text": [
      "Read1 before filtering:\n",
      "total reads: 7927777\n",
      "total bases: 598459167\n",
      "Q20 bases: 594321348(99.3086%)\n",
      "Q30 bases: 585959979(97.9114%)\n",
      "\n",
      "Read1 after filtering:\n",
      "total reads: 7920172\n",
      "total bases: 598160291\n",
      "Q20 bases: 594273608(99.3502%)\n",
      "Q30 bases: 585919380(97.9536%)\n",
      "\n",
      "Filtering result:\n",
      "reads passed filter: 7920172\n",
      "reads failed due to low quality: 0\n",
      "reads failed due to too many N: 0\n",
      "reads failed due to low complexity: 7605\n",
      "\n",
      "Duplication rate (may be overestimated since this is SE data): 19.1381%\n",
      "\n",
      "JSON report: fastp.json\n",
      "HTML report: fastp.html\n",
      "\n",
      "fastp -QLyAG -i /home/tutorial-user/tutorial-data/qc_examples/SRR3191542_1.fastq.gz -o /home/tutorial-user/tutorial-data/qc_examples/fastp_SRR3191542_1.fastq.gz \n",
      "fastp v0.19.3, time used: 34 seconds\n"
     ]
    }
   ],
   "source": [
    "!fastp -QLyAG -i $HOME/tutorial-data/qc_examples/SRR3191542_1.fastq.gz -o $HOME/tutorial-data/qc_examples/fastp_SRR3191542_1.fastq.gz"
   ]
  },
  {
   "cell_type": "code",
   "execution_count": 11,
   "metadata": {},
   "outputs": [
    {
     "name": "stdout",
     "output_type": "stream",
     "text": [
      "fastp_SRR3191542_1.fastq.gz  SRR3191542_1_fastqc.zip  SRR3191542_2.fastq.gz\r\n",
      "SRR3191542_1_fastqc.html     SRR3191542_1.fastq.gz\r\n"
     ]
    }
   ],
   "source": [
    "!ls $HOME/tutorial-data/qc_examples/"
   ]
  },
  {
   "cell_type": "code",
   "execution_count": 12,
   "metadata": {},
   "outputs": [
    {
     "data": {
      "text/html": [
       "<iframe width=\"100%\" height=\"600\" src=\"fastp.html\"></iframe>\n"
      ],
      "text/plain": [
       "<IPython.core.display.HTML object>"
      ]
     },
     "metadata": {},
     "output_type": "display_data"
    }
   ],
   "source": [
    "%%HTML\n",
    "<iframe width=\"100%\" height=\"600\" src=\"fastp.html\"></iframe>"
   ]
  }
 ],
 "metadata": {
  "kernelspec": {
   "display_name": "Python 3",
   "language": "python",
   "name": "python3"
  },
  "language_info": {
   "codemirror_mode": {
    "name": "ipython",
    "version": 3
   },
   "file_extension": ".py",
   "mimetype": "text/x-python",
   "name": "python",
   "nbconvert_exporter": "python",
   "pygments_lexer": "ipython3",
   "version": "3.6.7"
  }
 },
 "nbformat": 4,
 "nbformat_minor": 2
}

{
 "cells": [
  {
   "cell_type": "markdown",
   "metadata": {},
   "source": [
    "# Run-through of Kallisto Single-cell RNA-Seq"
   ]
  },
  {
   "cell_type": "markdown",
   "metadata": {},
   "source": [
    "First, let's look at our sample data - a mixture of fresh frozen human (HEK293T) and mouse (NIH3T3) cells [sequenced using the Chromium v2 Chemistry](https://support.10xgenomics.com/single-cell-gene-expression/datasets/2.1.0/hgmm_1k). \n",
    "\n",
    "Here are some relevant facts about the dataset:\n",
    "\n",
    "- 1:1 mixture of fresh frozen human (HEK293T) and mouse (NIH3T3) cells. This is a classic human-mouse mixture   experiment to demonstrate single cell behavior.\n",
    "- 1,017 cells detected\n",
    "- Sequenced on Illumina Hiseq4000 with approximately 61,000 reads per cell\n",
    "- 26bp read1 (16bp Chromium barcode and 10bp UMI), 98bp read2 (transcript), and 8bp I7 sample barcode"
   ]
  },
  {
   "cell_type": "markdown",
   "metadata": {},
   "source": [
    "The data are located here on our tutorial image\n",
    "\n",
    "fastQ files:"
   ]
  },
  {
   "cell_type": "code",
   "execution_count": null,
   "metadata": {},
   "outputs": [],
   "source": [
    "ls $HOME/tutorial-data/kallisto-single-cell/data/fastq_files/hgmm_1k_v2_fastqs "
   ]
  },
  {
   "cell_type": "markdown",
   "metadata": {},
   "source": [
    "These are paired-end sequences (R1, R2) of two lanes (L001, L002) of the experiment. The L1_001 and L2_002 are sequence indexes used on lane 1 and 2 respectively. "
   ]
  },
  {
   "cell_type": "markdown",
   "metadata": {},
   "source": [
    "For this experiment, we also have two transcriptomes, one mouse, one human:"
   ]
  },
  {
   "cell_type": "code",
   "execution_count": null,
   "metadata": {},
   "outputs": [],
   "source": [
    "ls $HOME/tutorial-data/kallisto-single-cell/data/transcriptomes"
   ]
  },
  {
   "cell_type": "markdown",
   "metadata": {},
   "source": [
    "## Quality control of FastQ data"
   ]
  },
  {
   "cell_type": "markdown",
   "metadata": {},
   "source": [
    "As done previously, we will use fastp to take a look at the files containing our cell sequence data (we won't use the  index files). To be safe, we will disable any adapter trimming using the -A option (remember, fastp has several quality control options enabled by default ([See fastp manual](https://github.com/OpenGene/fastp#simple-usage)). **Note** Importantly, since we are dealing with barcodes where we expect a minimum length, we use the `--length-required` option to make sure we don't trim to below this length"
   ]
  },
  {
   "cell_type": "code",
   "execution_count": null,
   "metadata": {},
   "outputs": [],
   "source": [
    "cd $HOME/tutorial-data/kallisto-single-cell/data/fastq_files/hgmm_1k_v2_fastqs \n",
    "for r1infile in *R1_*fastq.gz;\n",
    " do\n",
    " r2infile=$(echo $r1infile| sed -e \"s/R1/R2/g\")\n",
    " r1outfile=fastp_${r1infile};\n",
    " r2outfile=fastp_${r2infile};\n",
    " reportname=$(echo $r1infile|cut -f5 -d _).fastp-report.html\n",
    " echo \"Processing pair $r1infile,$r2infile\"\n",
    " fastp -A --thread=4 --length_required=28 -h $reportname -i $r1infile -o $r1outfile -I $r2infile -O $r2outfile;\n",
    " done;"
   ]
  },
  {
   "cell_type": "markdown",
   "metadata": {},
   "source": [
    "We will move the outputs of the fastp analysis to appropriate locations on our computer..."
   ]
  },
  {
   "cell_type": "code",
   "execution_count": null,
   "metadata": {},
   "outputs": [],
   "source": [
    "mv fastp_hgmm* $HOME/tutorial-data/kallisto-single-cell/analyses/fastp/\n",
    "mv *.json $HOME/tutorial-data/kallisto-single-cell/analyses/fastp/\n",
    "mv *.html $HOME/tutorial-data/kallisto-single-cell/analyses/fastp/"
   ]
  },
  {
   "cell_type": "code",
   "execution_count": null,
   "metadata": {},
   "outputs": [],
   "source": [
    "ls $HOME/tutorial-data/kallisto-single-cell/processed/fastp"
   ]
  },
  {
   "cell_type": "markdown",
   "metadata": {},
   "source": [
    "You can view the html reports in your jupyter notebook file browser. "
   ]
  },
  {
   "cell_type": "markdown",
   "metadata": {},
   "source": [
    "## Clean data using umi-tools"
   ]
  },
  {
   "cell_type": "markdown",
   "metadata": {},
   "source": [
    "[umi-tools](https://github.com/CGATOxford/UMI-tools) is one way to complete an additional requirement for single-cell RNA-Seq where we have cell barcodes and UMIs that may need to be filtered and or demultiplexed for proper analysis. In these steps we will try to remove reads which are likely empty (e.g. barcode-only amplification) and deal with sequencing errors. We will again work with pre-processed fastq files already prepared:"
   ]
  },
  {
   "cell_type": "code",
   "execution_count": null,
   "metadata": {},
   "outputs": [],
   "source": [
    "cd $HOME/tutorial-data/kallisto-single-cell/analyses/fastp/pre-processed\n",
    "ls"
   ]
  },
  {
   "cell_type": "markdown",
   "metadata": {},
   "source": [
    "Since we have two lanes of data, we will combine them into a single R1 and R2 file"
   ]
  },
  {
   "cell_type": "code",
   "execution_count": null,
   "metadata": {},
   "outputs": [],
   "source": [
    "cat fastp_hgmm_1k_v2_S1_L001_R1_001.fastq.gz fastp_hgmm_1k_v2_S1_L002_R1_001.fastq.gz > fastp_hgmm_1k_v2_S1_R1_001.fastq.gz\n",
    "cat fastp_hgmm_1k_v2_S1_L001_R2_001.fastq.gz fastp_hgmm_1k_v2_S1_L002_R2_001.fastq.gz > fastp_hgmm_1k_v2_S1_R2_001.fastq.gz "
   ]
  },
  {
   "cell_type": "code",
   "execution_count": null,
   "metadata": {},
   "outputs": [],
   "source": [
    "ls "
   ]
  },
  {
   "cell_type": "markdown",
   "metadata": {},
   "source": [
    "We can preview the first lines (read) in our data:"
   ]
  },
  {
   "cell_type": "code",
   "execution_count": null,
   "metadata": {},
   "outputs": [],
   "source": [
    "zcat fastp_hgmm_1k_v2_S1_R1_001.fastq.gz | head -8"
   ]
  },
  {
   "cell_type": "markdown",
   "metadata": {},
   "source": [
    "According to the [Chromium site](https://support.10xgenomics.com/single-cell-gene-expression/datasets/2.1.0/hgmm_1k) we expect:\n",
    "\n",
    "- 28bp read1 (16bp Chromium barcode and 12bp UMI), 91bp read2 (transcript), and 8bp I7 sample barcode\n",
    "\n",
    "Which is (close) to what we get:"
   ]
  },
  {
   "cell_type": "code",
   "execution_count": null,
   "metadata": {},
   "outputs": [],
   "source": [
    "NCACCTACATGGTCAT|GCATACGCCTTT|\n",
    "|--Cell barcode-|----UMI-----|"
   ]
  },
  {
   "cell_type": "markdown",
   "metadata": {},
   "source": [
    "Next we will use the `whitelist` method to take the top X most abundant barcodes. X can be estimated automatically from the data. "
   ]
  },
  {
   "cell_type": "code",
   "execution_count": null,
   "metadata": {},
   "outputs": [],
   "source": [
    "umi_tools whitelist --stdin fastp_hgmm_1k_v2_S1_R1_001.fastq.gz\\\n",
    " --bc-pattern=CCCCCCCCCCCCCCCCNNNNNNNNNNNN \\\n",
    " --set-cell-number=1000\\\n",
    " --log2stderr > umi-tools_whitelist.txt"
   ]
  },
  {
   "cell_type": "markdown",
   "metadata": {},
   "source": [
    "The output of the whitelist command is a table containing the accepted CBs. It has four columns:\n",
    "1. The accepted CB\n",
    "2. Comma separated list of other CBs within an edit distance of the CB in columns 1 and >1 edit away from any other accepted CB.\n",
    "3. The abundance (read or UMI count) of the accepted.\n",
    "4. Comma separated list of abundances for the CBs in column 2\n"
   ]
  },
  {
   "cell_type": "code",
   "execution_count": null,
   "metadata": {},
   "outputs": [],
   "source": [
    "head -n1 ./umi-tools_whitelist.txt"
   ]
  },
  {
   "cell_type": "markdown",
   "metadata": {},
   "source": [
    "In the next step, umi-tools will extract the cell barcodes and UMI from Read 1 and add it to the Read 2 read name and filter out reads that do not match one of the accepted cell barcodes (contained in the whitelist)."
   ]
  },
  {
   "cell_type": "code",
   "execution_count": null,
   "metadata": {},
   "outputs": [],
   "source": [
    "umi_tools extract --bc-pattern=CCCCCCCCCCCCCCCCNNNNNNNNNNNN \\\n",
    " --stdin fastp_hgmm_1k_v2_S1_R1_001.fastq.gz\\\n",
    " --stdout fastp_hgmm_1k_v2_S1_R1_001.extracted.fastq.gz\\\n",
    " --read2-in fastp_hgmm_1k_v2_S1_R2_001.fastq.gz\\\n",
    " --read2-out=fastp_hgmm_1k_v2_S1_R2_001.extracted.fastq.gz\\\n",
    " --filter-cell-barcode \\\n",
    " --whitelist=umi-tools_whitelist.txt"
   ]
  },
  {
   "cell_type": "code",
   "execution_count": null,
   "metadata": {},
   "outputs": [],
   "source": [
    "ls"
   ]
  },
  {
   "cell_type": "code",
   "execution_count": null,
   "metadata": {},
   "outputs": [],
   "source": [
    "zcat fastp_hgmm_1k_v2_S1_R2_001.extracted.fastq.gz |head -n16|sed -n '1~4p'"
   ]
  },
  {
   "cell_type": "markdown",
   "metadata": {},
   "source": [
    "The number of reads in our newly extracted read file should be this number divided by 4"
   ]
  },
  {
   "cell_type": "code",
   "execution_count": null,
   "metadata": {},
   "outputs": [],
   "source": [
    "zcat fastp_hgmm_1k_v2_S1_R2_001.extracted.fastq.gz| wc -l"
   ]
  },
  {
   "cell_type": "code",
   "execution_count": null,
   "metadata": {},
   "outputs": [],
   "source": [
    "expr 246092468 / 4"
   ]
  },
  {
   "cell_type": "markdown",
   "metadata": {},
   "source": [
    "We want to extract the UMIs for use by kallisto; we can do so using this shell command:"
   ]
  },
  {
   "cell_type": "code",
   "execution_count": null,
   "metadata": {},
   "outputs": [],
   "source": [
    "zcat fastp_hgmm_1k_v2_S1_R2_001.extracted.fastq.gz |sed -n '1~4p'|cut -f7 -d :|cut -f3 -d_|cut -f1 -d \" \" >umi.txt"
   ]
  },
  {
   "cell_type": "markdown",
   "metadata": {},
   "source": [
    "The number of lines should also be equal to the number of reads. "
   ]
  },
  {
   "cell_type": "code",
   "execution_count": null,
   "metadata": {
    "scrolled": true
   },
   "outputs": [],
   "source": [
    "wc -l umi.txt"
   ]
  },
  {
   "cell_type": "markdown",
   "metadata": {},
   "source": [
    "We can also preview the umi file"
   ]
  },
  {
   "cell_type": "code",
   "execution_count": null,
   "metadata": {},
   "outputs": [],
   "source": [
    "head umi.txt"
   ]
  },
  {
   "cell_type": "markdown",
   "metadata": {},
   "source": [
    "Let's move the UMI associated files to their own space in our analyses folder"
   ]
  },
  {
   "cell_type": "code",
   "execution_count": null,
   "metadata": {},
   "outputs": [],
   "source": [
    "mkdir -p $HOME/tutorial-data/kallisto-single-cell/analyses/umi\n",
    "mv fastp_hgmm_1k_v2_S1_R1_001.extracted.fastq.gz $HOME/tutorial-data/kallisto-single-cell/analyses/umi\n",
    "mv fastp_hgmm_1k_v2_S1_R2_001.extracted.fastq.gz $HOME/tutorial-data/kallisto-single-cell/analyses/umi\n",
    "mv fastp_hgmm_1k_v2_S1_R1_001.fastq.gz $HOME/tutorial-data/kallisto-single-cell/analyses/umi\n",
    "mv fastp_hgmm_1k_v2_S1_R2_001.fastq.gz $HOME/tutorial-data/kallisto-single-cell/analyses/umi\n",
    "mv umi-tools_whitelist.txt $HOME/tutorial-data/kallisto-single-cell/analyses/umi\n",
    "mv umi.txt $HOME/tutorial-data/kallisto-single-cell/analyses/umi"
   ]
  },
  {
   "cell_type": "markdown",
   "metadata": {},
   "source": [
    "## Prepare transcriptome for Kallisto"
   ]
  },
  {
   "cell_type": "markdown",
   "metadata": {},
   "source": [
    "Since we are using both human and mouse cells, we will need a single transcriptome containing both human and mouse transcripts. We can combine the existing transcriptomes using the `cat` command:\n"
   ]
  },
  {
   "cell_type": "code",
   "execution_count": null,
   "metadata": {},
   "outputs": [],
   "source": [
    "cd $HOME/tutorial-data/kallisto-single-cell/data/transcriptomes\n",
    "cat Homo_sapiens.GRCh38.cdna.all.fa.gz Mus_musculus.GRCm38.cdna.all.fa.gz > human-mouse-transcriptome.fa.gz"
   ]
  },
  {
   "cell_type": "code",
   "execution_count": null,
   "metadata": {},
   "outputs": [],
   "source": [
    "pwd"
   ]
  },
  {
   "cell_type": "markdown",
   "metadata": {},
   "source": [
    "We can now build the kallisto index and place this in an appropriate location\n"
   ]
  },
  {
   "cell_type": "code",
   "execution_count": null,
   "metadata": {},
   "outputs": [],
   "source": [
    "kallisto index --index=\"human_mouse_transcriptome_index\" $HOME/tutorial-data/kallisto-single-cell/data/transcriptomes/human-mouse-transcriptome.fa.gz"
   ]
  },
  {
   "cell_type": "code",
   "execution_count": null,
   "metadata": {},
   "outputs": [],
   "source": [
    "mkdir -p $HOME/tutorial-data/kallisto-single-cell/indicies\n",
    "mv human_mouse_transcriptome_index $HOME/tutorial-data/kallisto-single-cell/indicies"
   ]
  },
  {
   "cell_type": "markdown",
   "metadata": {},
   "source": [
    "## Quantification using Kallisto"
   ]
  },
  {
   "cell_type": "markdown",
   "metadata": {},
   "source": [
    "This time, we will use the `kallisto pseudo` command"
   ]
  },
  {
   "cell_type": "code",
   "execution_count": null,
   "metadata": {},
   "outputs": [],
   "source": [
    "kallisto pseudo"
   ]
  },
  {
   "cell_type": "code",
   "execution_count": null,
   "metadata": {},
   "outputs": [],
   "source": [
    "cd $HOME/tutorial-data/kallisto-single-cell/analyses/umi/pre-processed\n",
    "ls"
   ]
  },
  {
   "cell_type": "code",
   "execution_count": null,
   "metadata": {},
   "outputs": [],
   "source": [
    "kallisto quant\\\n",
    " --single\\\n",
    " --fragment-length=200\\\n",
    " --sd=30\\\n",
    " --threads=4\\\n",
    " --index=$HOME/tutorial-data/kallisto-single-cell/indicies/pre-processed/human_mouse_transcriptome_index\\\n",
    " --output-dir=human-mouse_umi_quant\\\n",
    " $HOME/tutorial-data/kallisto-single-cell/analyses/umi/pre-processed/fastp_hgmm_1k_v2_S1_R2_001.extracted.fastq.gz\n",
    " "
   ]
  },
  {
   "cell_type": "markdown",
   "metadata": {},
   "source": [
    "Our results will be located in the `human-mouse_quant` directory"
   ]
  },
  {
   "cell_type": "code",
   "execution_count": 104,
   "metadata": {},
   "outputs": [
    {
     "name": "stdout",
     "output_type": "stream",
     "text": [
      "bash: cd: ./human-mouse_umi_quant: No such file or directory\n",
      "abundance.h5  abundance.tsv  run_info.json\n",
      "/home/tutorial-user/tutorial-data/kallisto-single-cell/analyses/umi/pre-processed/human-mouse_umi_quant/human-mouse_umi_quant\n"
     ]
    }
   ],
   "source": [
    "cd ./human-mouse_umi_quant\n",
    "ls\n",
    "pwd"
   ]
  },
  {
   "cell_type": "markdown",
   "metadata": {},
   "source": [
    "We can see stats of the pseudoalignment in the `run_info.json` file"
   ]
  },
  {
   "cell_type": "code",
   "execution_count": null,
   "metadata": {},
   "outputs": [],
   "source": [
    "cat run_info.json"
   ]
  },
  {
   "cell_type": "markdown",
   "metadata": {
    "scrolled": true
   },
   "source": [
    "We will use the `abundance.tsv` to continue our analysis in R"
   ]
  }
 ],
 "metadata": {
  "kernelspec": {
   "display_name": "Bash",
   "language": "bash",
   "name": "bash"
  },
  "language_info": {
   "codemirror_mode": "shell",
   "file_extension": ".sh",
   "mimetype": "text/x-sh",
   "name": "bash"
  }
 },
 "nbformat": 4,
 "nbformat_minor": 2
}

{
 "cells": [
  {
   "cell_type": "markdown",
   "metadata": {},
   "source": [
    "# Run-through of Kallisto Single-cell RNA-Seq"
   ]
  },
  {
   "cell_type": "markdown",
   "metadata": {},
   "source": [
    "First, let's look at our sample data - a mixture of fresh frozen fuman (HEK293T) and mouse (NIH3T3) cells [sequenced using the Chromium v2 Chemistry](https://support.10xgenomics.com/single-cell-gene-expression/datasets/2.1.0/hgmm_1k). \n",
    "\n",
    "Here are some relavant facts about the dataset:\n",
    "\n",
    "- 1:1 mixture of fresh frozen human (HEK293T) and mouse (NIH3T3) cells. This is a classic human-mouse mixture   experiment to demonstrate single cell behavior.\n",
    "- 1,017 cells detected\n",
    "- Sequenced on Illumina Hiseq4000 with approximately 61,000 reads per cell\n",
    "- 26bp read1 (16bp Chromium barcode and 10bp UMI), 98bp read2 (transcript), and 8bp I7 sample barcode"
   ]
  },
  {
   "cell_type": "markdown",
   "metadata": {},
   "source": [
    "The data are located here on our tutorial image\n",
    "\n",
    "fastq files:"
   ]
  },
  {
   "cell_type": "code",
   "execution_count": 1,
   "metadata": {},
   "outputs": [
    {
     "name": "stdout",
     "output_type": "stream",
     "text": [
      "hgmm_1k_v2_S1_L001_I1_001.fastq.gz  hgmm_1k_v2_S1_L002_I1_001.fastq.gz\n",
      "hgmm_1k_v2_S1_L001_R1_001.fastq.gz  hgmm_1k_v2_S1_L002_R1_001.fastq.gz\n",
      "hgmm_1k_v2_S1_L001_R2_001.fastq.gz  hgmm_1k_v2_S1_L002_R2_001.fastq.gz\n"
     ]
    }
   ],
   "source": [
    "ls $HOME/tutorial-data/kallisto-single-cell/data/fastq_files/hgmm_1k_v2_fastqs "
   ]
  },
  {
   "cell_type": "markdown",
   "metadata": {},
   "source": [
    "These are paired-end sequences (R1, R2) of two lanes (L001, L002) of the experiment. The L1_001 and L2_002 are sequence indexes used on lane 1 and 2 respectively. "
   ]
  },
  {
   "cell_type": "markdown",
   "metadata": {},
   "source": [
    "For this experiment, we also have two transcriptomes, one mouse, one human:"
   ]
  },
  {
   "cell_type": "code",
   "execution_count": 2,
   "metadata": {},
   "outputs": [
    {
     "name": "stdout",
     "output_type": "stream",
     "text": [
      "Homo_sapiens.GRCh38.cdna.all.fa.gz  Mus_musculus.GRCm38.cdna.all.fa.gz\n",
      "human-mouse-transcriptome.fa.gz\n"
     ]
    }
   ],
   "source": [
    "ls $HOME/tutorial-data/kallisto-single-cell/data/transcriptomes"
   ]
  },
  {
   "cell_type": "markdown",
   "metadata": {},
   "source": [
    "## Processing with UMI Tools"
   ]
  },
  {
   "cell_type": "markdown",
   "metadata": {},
   "source": [
    "Install UMI tools with python pip\n"
   ]
  },
  {
   "cell_type": "code",
   "execution_count": 1,
   "metadata": {},
   "outputs": [
    {
     "name": "stdout",
     "output_type": "stream",
     "text": [
      "\n",
      "umi_tools.py - Tools for UMI analyses\n",
      "===============================================\n",
      "\n",
      ":Author: Tom Smith & Ian Sudbury, CGAT\n",
      ":Release: $Id$\n",
      ":Date: |today|\n",
      ":Tags: Genomics UMI\n",
      "\n",
      "There are 6 tools:\n",
      "\n",
      "  - whitelist\n",
      "  - extract\n",
      "  - group\n",
      "  - dedup\n",
      "  - count\n",
      "  - count_tab\n",
      "\n",
      "To get help on a specific tool, type:\n",
      "\n",
      "    umi_tools <tool> --help\n",
      "\n",
      "To use a specific tool, type::\n",
      "\n",
      "    umi_tools <tool> [tool options] [tool arguments]\n",
      "\n"
     ]
    }
   ],
   "source": [
    "umi_tools"
   ]
  },
  {
   "cell_type": "code",
   "execution_count": 8,
   "metadata": {},
   "outputs": [
    {
     "name": "stdout",
     "output_type": "stream",
     "text": [
      "umi_tools: command not found\n"
     ]
    },
    {
     "ename": "",
     "evalue": "127",
     "output_type": "error",
     "traceback": []
    }
   ],
   "source": []
  },
  {
   "cell_type": "code",
   "execution_count": null,
   "metadata": {},
   "outputs": [],
   "source": []
  },
  {
   "cell_type": "code",
   "execution_count": null,
   "metadata": {},
   "outputs": [],
   "source": []
  },
  {
   "cell_type": "code",
   "execution_count": null,
   "metadata": {},
   "outputs": [],
   "source": []
  },
  {
   "cell_type": "code",
   "execution_count": null,
   "metadata": {},
   "outputs": [],
   "source": []
  },
  {
   "cell_type": "markdown",
   "metadata": {},
   "source": [
    "## Quality control of FastQ data"
   ]
  },
  {
   "cell_type": "markdown",
   "metadata": {},
   "source": [
    "As done previously, we will use fastp to take a look at the files containing our cell sequence data (we won't use the  index files). To be safe, we will disable any adaptor trimimg using the -A option (remember, fastp has several quality control ouptions enabled by default ([See fastp manual](https://github.com/OpenGene/fastp#simple-usage))"
   ]
  },
  {
   "cell_type": "code",
   "execution_count": 18,
   "metadata": {},
   "outputs": [
    {
     "name": "stdout",
     "output_type": "stream",
     "text": [
      "Processing pair hgmm_1k_v2_S1_L001_R1_001.fastq.gz,hgmm_1k_v2_S1_L001_R2_001.fastq.gz\n",
      "Read1 before filtering:\n",
      "total reads: 37636688\n",
      "total bases: 1053827264\n",
      "Q20 bases: 1043290586(99.0002%)\n",
      "Q30 bases: 1019063898(96.7012%)\n",
      "\n",
      "Read1 after filtering:\n",
      "total reads: 36607618\n",
      "total bases: 1025012884\n",
      "Q20 bases: 1015109251(99.0338%)\n",
      "Q30 bases: 991825546(96.7623%)\n",
      "\n",
      "Read2 before filtering:\n",
      "total reads: 37636688\n",
      "total bases: 3424938608\n",
      "Q20 bases: 3319762598(96.9291%)\n",
      "Q30 bases: 3201987689(93.4904%)\n",
      "\n",
      "Read2 aftering filtering:\n",
      "total reads: 36607618\n",
      "total bases: 3330921245\n",
      "Q20 bases: 3276509776(98.3665%)\n",
      "Q30 bases: 3172814998(95.2534%)\n",
      "\n",
      "Filtering result:\n",
      "reads passed filter: 73215236\n",
      "reads failed due to low quality: 1897134\n",
      "reads failed due to too many N: 5340\n",
      "reads failed due to too short: 155666\n",
      "\n",
      "Duplication rate: 0%\n",
      "\n",
      "Insert size peak (evaluated by paired-end reads): 28\n",
      "\n",
      "JSON report: fastp.json\n",
      "HTML report: L001.fastp-report.html\n",
      "\n",
      "fastp -A -h L001.fastp-report.html -i hgmm_1k_v2_S1_L001_R1_001.fastq.gz -o fastp_hgmm_1k_v2_S1_L001_R1_001.fastq.gz -I hgmm_1k_v2_S1_L001_R2_001.fastq.gz -O fastp_hgmm_1k_v2_S1_L001_R2_001.fastq.gz \n",
      "fastp v0.19.3, time used: 155 seconds\n",
      "Processing pair hgmm_1k_v2_S1_L002_R1_001.fastq.gz,hgmm_1k_v2_S1_L002_R2_001.fastq.gz\n",
      "Read1 before filtering:\n",
      "total reads: 37588432\n",
      "total bases: 1052476096\n",
      "Q20 bases: 1041859467(98.9913%)\n",
      "Q30 bases: 1017484965(96.6754%)\n",
      "\n",
      "Read1 after filtering:\n",
      "total reads: 36558382\n",
      "total bases: 1023634066\n",
      "Q20 bases: 1013648895(99.0245%)\n",
      "Q30 bases: 990214428(96.7352%)\n",
      "\n",
      "Read2 before filtering:\n",
      "total reads: 37588432\n",
      "total bases: 3420547312\n",
      "Q20 bases: 3315426003(96.9268%)\n",
      "Q30 bases: 3198524741(93.5092%)\n",
      "\n",
      "Read2 aftering filtering:\n",
      "total reads: 36558382\n",
      "total bases: 3326441999\n",
      "Q20 bases: 3272102509(98.3664%)\n",
      "Q30 bases: 3169230549(95.2739%)\n",
      "\n",
      "Filtering result:\n",
      "reads passed filter: 73116764\n",
      "reads failed due to low quality: 1898342\n",
      "reads failed due to too many N: 6890\n",
      "reads failed due to too short: 154868\n",
      "\n",
      "Duplication rate: 0%\n",
      "\n",
      "Insert size peak (evaluated by paired-end reads): 28\n",
      "\n",
      "JSON report: fastp.json\n",
      "HTML report: L002.fastp-report.html\n",
      "\n",
      "fastp -A -h L002.fastp-report.html -i hgmm_1k_v2_S1_L002_R1_001.fastq.gz -o fastp_hgmm_1k_v2_S1_L002_R1_001.fastq.gz -I hgmm_1k_v2_S1_L002_R2_001.fastq.gz -O fastp_hgmm_1k_v2_S1_L002_R2_001.fastq.gz \n",
      "fastp v0.19.3, time used: 155 seconds\n"
     ]
    }
   ],
   "source": [
    "cd $HOME/tutorial-data/kallisto-single-cell/data/fastq_files/hgmm_1k_v2_fastqs \n",
    "for r1infile in *R1_*fastq.gz;\n",
    " do\n",
    " r2infile=$(echo $r1infile| sed -e \"s/R1/R2/g\")\n",
    " r1outfile=fastp_${r1infile};\n",
    " r2outfile=fastp_${r2infile};\n",
    " reportname=$(echo $r1infile|cut -f5 -d _).fastp-report.html\n",
    " echo \"Processing pair $r1infile,$r2infile\"\n",
    " fastp -A -h $reportname -i $r1infile -o $r1outfile -I $r2infile -O $r2outfile;\n",
    " done;"
   ]
  },
  {
   "cell_type": "markdown",
   "metadata": {},
   "source": [
    "We will move the outputs of the fastp analysis to appropriate locations on our computer..."
   ]
  },
  {
   "cell_type": "code",
   "execution_count": 24,
   "metadata": {},
   "outputs": [
    {
     "name": "stdout",
     "output_type": "stream",
     "text": [
      "mv: cannot stat 'fastp_hgmm*': No such file or directory\n"
     ]
    }
   ],
   "source": [
    "mv fastp_hgmm* $HOME/tutorial-data/kallisto-single-cell/processed/fastp\n",
    "mv *.json $HOME/tutorial-data/kallisto-single-cell/processed/fastp\n",
    "mv *.html $HOME/tutorial-data/kallisto-single-cell/processed/fastp"
   ]
  },
  {
   "cell_type": "code",
   "execution_count": 25,
   "metadata": {},
   "outputs": [
    {
     "name": "stdout",
     "output_type": "stream",
     "text": [
      "fastp_hgmm_1k_v2_S1_L001_R1_001.fastq.gz  fastp.json\n",
      "fastp_hgmm_1k_v2_S1_L001_R2_001.fastq.gz  L001.fastp-report.html\n",
      "fastp_hgmm_1k_v2_S1_L002_R1_001.fastq.gz  L002.fastp-report.html\n",
      "fastp_hgmm_1k_v2_S1_L002_R2_001.fastq.gz\n"
     ]
    }
   ],
   "source": [
    "ls $HOME/tutorial-data/kallisto-single-cell/processed/fastp"
   ]
  },
  {
   "cell_type": "markdown",
   "metadata": {},
   "source": [
    "You can view the html reports in your jupyter notebook file browser. "
   ]
  },
  {
   "cell_type": "markdown",
   "metadata": {},
   "source": [
    "## Prepare transcriptome for Kallisto"
   ]
  },
  {
   "cell_type": "markdown",
   "metadata": {},
   "source": [
    "Since we are using both human and mouse cells, we will need a single transcriptome containing both human and mouse transcripts. We can combine the existing transcriptomes using the `cat` command:\n"
   ]
  },
  {
   "cell_type": "code",
   "execution_count": 26,
   "metadata": {},
   "outputs": [],
   "source": [
    "cd $HOME/tutorial-data/kallisto-single-cell/data/transcriptomes\n",
    "cat Homo_sapiens.GRCh38.cdna.all.fa.gz Mus_musculus.GRCm38.cdna.all.fa.gz > human-mouse-transcriptome.fa.gz"
   ]
  },
  {
   "cell_type": "code",
   "execution_count": 28,
   "metadata": {},
   "outputs": [
    {
     "name": "stdout",
     "output_type": "stream",
     "text": [
      "/home/tutorial-user/tutorial-data/kallisto-single-cell/data/transcriptomes\n"
     ]
    }
   ],
   "source": [
    "pwd"
   ]
  },
  {
   "cell_type": "markdown",
   "metadata": {},
   "source": [
    "We can now build the kallisto index and place this in an appropriate location\n"
   ]
  },
  {
   "cell_type": "code",
   "execution_count": 31,
   "metadata": {},
   "outputs": [
    {
     "name": "stdout",
     "output_type": "stream",
     "text": [
      "\n",
      "[build] loading fasta file /home/tutorial-user/tutorial-data/kallisto-single-cell/data/transcriptomes/human-mouse-transcriptome.fa.gz\n",
      "[build] k-mer length: 31\n",
      "[build] warning: clipped off poly-A tail (longer than 10)\n",
      "        from 2071 target sequences\n",
      "[build] warning: replaced 8 non-ACGUT characters in the input sequence\n",
      "        with pseudorandom nucleotides\n",
      "[build] counting k-mers ... done.\n",
      "[build] building target de Bruijn graph ...  done \n",
      "[build] creating equivalence classes ...  done\n",
      "[build] target de Bruijn graph has 2138563 contigs and contains 206125466 k-mers \n",
      "\n"
     ]
    }
   ],
   "source": [
    "kallisto index --index=\"human_mouse_transcriptome_index\" $HOME/tutorial-data/kallisto-single-cell/data/transcriptomes/human-mouse-transcriptome.fa.gz"
   ]
  },
  {
   "cell_type": "code",
   "execution_count": 33,
   "metadata": {},
   "outputs": [],
   "source": [
    "mkdir $HOME/tutorial-data/kallisto-single-cell/indicies\n",
    "mv human_mouse_transcriptome_index $HOME/tutorial-data/kallisto-single-cell/indicies"
   ]
  },
  {
   "cell_type": "markdown",
   "metadata": {},
   "source": [
    "## Quantification using Kallisto"
   ]
  },
  {
   "cell_type": "code",
   "execution_count": 34,
   "metadata": {},
   "outputs": [
    {
     "name": "stdout",
     "output_type": "stream",
     "text": [
      "List of supported single cell technologies\n",
      "\n",
      "short name       description\n",
      "----------       -----------\n",
      "10Xv1            10X chemistry version 1\n",
      "10Xv2            10X chemistry verison 2\n",
      "DropSeq          DropSeq\n",
      "inDrop           inDrop\n",
      "CELSeq           CEL-Seq\n",
      "CELSeq2          CEL-Seq version 2\n",
      "SCRBSeq          SCRB-Seq\n",
      "\n"
     ]
    },
    {
     "ename": "",
     "evalue": "1",
     "output_type": "error",
     "traceback": []
    }
   ],
   "source": [
    "kallisto bus --list "
   ]
  },
  {
   "cell_type": "code",
   "execution_count": 35,
   "metadata": {},
   "outputs": [
    {
     "name": "stdout",
     "output_type": "stream",
     "text": [
      "fastp_hgmm_1k_v2_S1_L001_R1_001.fastq.gz  fastp.json\n",
      "fastp_hgmm_1k_v2_S1_L001_R2_001.fastq.gz  L001.fastp-report.html\n",
      "fastp_hgmm_1k_v2_S1_L002_R1_001.fastq.gz  L002.fastp-report.html\n",
      "fastp_hgmm_1k_v2_S1_L002_R2_001.fastq.gz\n"
     ]
    }
   ],
   "source": [
    "cd $HOME/tutorial-data/kallisto-single-cell/processed/fastp\n",
    "ls"
   ]
  },
  {
   "cell_type": "code",
   "execution_count": 37,
   "metadata": {},
   "outputs": [
    {
     "name": "stdout",
     "output_type": "stream",
     "text": [
      "\n",
      "[index] k-mer length: 31\n",
      "[index] number of targets: 302,896\n",
      "[index] number of k-mers: 206,125,466\n",
      "[index] number of equivalence classes: 1,252,306\n",
      "[quant] will process sample 1: fastp_hgmm_1k_v2_S1_L001_R1_001.fastq.gz\n",
      "                               fastp_hgmm_1k_v2_S1_L001_R2_001.fastq.gz\n",
      "[quant] will process sample 2: fastp_hgmm_1k_v2_S1_L002_R1_001.fastq.gz\n",
      "                               fastp_hgmm_1k_v2_S1_L002_R2_001.fastq.gz\n",
      "[quant] finding pseudoalignments for the reads ... done\n",
      "[quant] processed 73,166,000 reads, 58,791,882 reads pseudoaligned\n"
     ]
    }
   ],
   "source": [
    "kallisto bus\\\n",
    " --threads=4\\\n",
    " --index=$HOME/tutorial-data/kallisto-single-cell/indicies/human_mouse_transcriptome_index\\\n",
    " --technology=10Xv2\\\n",
    " --output-dir=human-mouse_quant\\\n",
    " fastp_hgmm_1k_v2_S1_L001_R1_001.fastq.gz fastp_hgmm_1k_v2_S1_L001_R2_001.fastq.gz\\\n",
    " fastp_hgmm_1k_v2_S1_L002_R1_001.fastq.gz fastp_hgmm_1k_v2_S1_L002_R2_001.fastq.gz\n",
    " "
   ]
  },
  {
   "cell_type": "markdown",
   "metadata": {},
   "source": [
    "Our results will be located in the `human-mouse_quant` directory"
   ]
  },
  {
   "cell_type": "code",
   "execution_count": 41,
   "metadata": {},
   "outputs": [
    {
     "name": "stdout",
     "output_type": "stream",
     "text": [
      "matrix.ec  output.bus  run_info.json  transcripts.txt\n"
     ]
    }
   ],
   "source": [
    "ls ./human-mouse_quant"
   ]
  },
  {
   "cell_type": "markdown",
   "metadata": {},
   "source": [
    "Finally, we will use `bustools` to sort our output.bus to speed up processing we will do in the R notebook to follow"
   ]
  },
  {
   "cell_type": "code",
   "execution_count": 43,
   "metadata": {},
   "outputs": [
    {
     "name": "stdout",
     "output_type": "stream",
     "text": [
      "Read in 58791882 number of busrecords\n",
      "All sorted\n"
     ]
    }
   ],
   "source": [
    "cd $HOME/tutorial-data/kallisto-single-cell/processed/fastp/human-mouse_quant\n",
    "bustools sort\\\n",
    " --threads 4\\\n",
    " --output output_sorted.bus\\\n",
    " output.bus\n",
    " "
   ]
  },
  {
   "cell_type": "code",
   "execution_count": 2,
   "metadata": {
    "scrolled": true
   },
   "outputs": [
    {
     "name": "stdout",
     "output_type": "stream",
     "text": [
      "matrix.ec  output.bus  output_sorted.bus  run_info.json  transcripts.txt\n"
     ]
    }
   ],
   "source": [
    "ls"
   ]
  },
  {
   "cell_type": "markdown",
   "metadata": {},
   "source": [
    "We will convert the sorted output to text for downstream processing"
   ]
  },
  {
   "cell_type": "code",
   "execution_count": 3,
   "metadata": {},
   "outputs": [
    {
     "name": "stdout",
     "output_type": "stream",
     "text": [
      "Read in 40589878 number of busrecords\n",
      "matrix.ec   output_sorted.bus  run_info.json\n",
      "output.bus  output_sorted.txt  transcripts.txt\n"
     ]
    }
   ],
   "source": [
    "bustools text -o output_sorted.txt output_sorted.bus\n",
    "ls"
   ]
  },
  {
   "cell_type": "code",
   "execution_count": 8,
   "metadata": {},
   "outputs": [
    {
     "name": "stdout",
     "output_type": "stream",
     "text": [
      "AAAAAAAAAAAAAAAA\tAAAAAAAAAA\t246173\t1\n",
      "AAAAAAAAAAAAAAAA\tAAAAAAAAAA\t1076301\t1\n",
      "AAAAAAAAAAAAAAAA\tAAAAGAACCA\t553619\t1\n",
      "AAAAAAAAAAAAAAAA\tATAAAAAAAA\t321346\t1\n",
      "AAAAAAAAAAAAAAAA\tATAACCAAAA\t1207183\t1\n",
      "AAAAAAAAAAAAAAAA\tCCCTGGTATC\t456094\t1\n",
      "AAAAAAAAAAAAAAAC\tTAAACAAAAC\t313279\t1\n",
      "AAAAAAAAAAAAAACA\tAAAACACATC\t451008\t1\n",
      "AAAAAAAAAAAAAATA\tATCAAACAAA\t523919\t1\n",
      "AAAAAAAAAAAAAGTC\tAAGAGGAAAT\t513903\t1\n"
     ]
    }
   ],
   "source": [
    "head output_sorted.txt"
   ]
  }
 ],
 "metadata": {
  "kernelspec": {
   "display_name": "Bash",
   "language": "bash",
   "name": "bash"
  },
  "language_info": {
   "codemirror_mode": "shell",
   "file_extension": ".sh",
   "mimetype": "text/x-sh",
   "name": "bash"
  }
 },
 "nbformat": 4,
 "nbformat_minor": 2
}

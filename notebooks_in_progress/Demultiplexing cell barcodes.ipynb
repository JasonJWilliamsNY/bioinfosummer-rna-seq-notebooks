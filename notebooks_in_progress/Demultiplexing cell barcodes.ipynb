{
 "cells": [
  {
   "cell_type": "markdown",
   "metadata": {},
   "source": [
    "## Demuliplexing cell barcodes"
   ]
  },
  {
   "cell_type": "markdown",
   "metadata": {},
   "source": [
    "Input"
   ]
  },
  {
   "cell_type": "code",
   "execution_count": 3,
   "metadata": {},
   "outputs": [
    {
     "name": "stdout",
     "output_type": "stream",
     "text": [
      "hgmm_1k_v2_S1_L001_I1_001.fastq.gz  hgmm_1k_v2_S1_L002_I1_001.fastq.gz\n",
      "hgmm_1k_v2_S1_L001_R1_001.fastq.gz  hgmm_1k_v2_S1_L002_R1_001.fastq.gz\n",
      "hgmm_1k_v2_S1_L001_R2_001.fastq.gz  hgmm_1k_v2_S1_L002_R2_001.fastq.gz\n"
     ]
    }
   ],
   "source": [
    "cd $HOME/tutorial-data/kallisto-single-cell/data/fastq_files/hgmm_1k_v2_fastqs\n",
    "ls"
   ]
  },
  {
   "cell_type": "code",
   "execution_count": 4,
   "metadata": {},
   "outputs": [
    {
     "name": "stdout",
     "output_type": "stream",
     "text": [
      "@A00519:7:HFWFLDMXX:1:1101:29586:1000 1:N:0:TAACAAGG\n",
      "NCACCTACATGGTCATGCATACGCCTTT\n",
      "+\n",
      "#FFFFFFFFFFFFFFFFFFFFFFFFFFF\n",
      "\n",
      "gzip: stdout: Broken pipe\n"
     ]
    }
   ],
   "source": [
    "zcat hgmm_1k_v2_S1_L001_R1_001.fastq.gz |head -n4"
   ]
  },
  {
   "cell_type": "markdown",
   "metadata": {},
   "source": [
    "To get barcodes:"
   ]
  },
  {
   "cell_type": "code",
   "execution_count": null,
   "metadata": {},
   "outputs": [],
   "source": [
    "umi_tools whitelist --stdin fastp_hgmm_1k_v2_S1_R1_001.fastq.gz\\\n",
    " --bc-pattern=CCCCCCCCCCCCCCCCNNNNNNNNNNNN \\\n",
    " --set-cell-number=1000\\\n",
    " --log2stderr > umi-tools_whitelist.txt"
   ]
  },
  {
   "cell_type": "code",
   "execution_count": 5,
   "metadata": {},
   "outputs": [
    {
     "name": "stdout",
     "output_type": "stream",
     "text": [
      "AAACCTGCATGAACCT\n",
      "AAACCTGGTATCGCAT\n",
      "AAACGGGAGCTGCCCA\n",
      "AAACGGGTCACCCTCA\n",
      "AAAGATGAGTCATGCT\n",
      "AAAGATGGTAAGGGAA\n",
      "AAAGATGTCAGTTCGA\n",
      "AAAGATGTCCACTGGG\n",
      "AAAGTAGAGCGTCAAG\n",
      "AAATGCCAGGACACCA\n"
     ]
    }
   ],
   "source": [
    "head $HOME/tutorial-data/kallisto-single-cell/analyses/umi/pre-processed/cellbarcodes.txt "
   ]
  },
  {
   "cell_type": "markdown",
   "metadata": {},
   "source": [
    "This 1000 line file represents the 1000 observed barcodes"
   ]
  },
  {
   "cell_type": "markdown",
   "metadata": {},
   "source": [
    "What we would like to have 1000 pairs of fastq files corresponding to these barcodes... we can use a perl script "
   ]
  },
  {
   "cell_type": "markdown",
   "metadata": {},
   "source": [
    "First we need to create a file that has the sample name and barcode sequence. We can simply keep the sample name the same as the barcode:"
   ]
  },
  {
   "cell_type": "code",
   "execution_count": null,
   "metadata": {},
   "outputs": [],
   "source": [
    "awk '{print $1 \"\\t\" $1}' cellbarcodes.txt > sample_barcode.txt"
   ]
  },
  {
   "cell_type": "code",
   "execution_count": null,
   "metadata": {},
   "outputs": [],
   "source": []
  },
  {
   "cell_type": "code",
   "execution_count": null,
   "metadata": {},
   "outputs": [],
   "source": []
  },
  {
   "cell_type": "code",
   "execution_count": null,
   "metadata": {},
   "outputs": [],
   "source": []
  }
 ],
 "metadata": {
  "kernelspec": {
   "display_name": "Bash",
   "language": "bash",
   "name": "bash"
  },
  "language_info": {
   "codemirror_mode": "shell",
   "file_extension": ".sh",
   "mimetype": "text/x-sh",
   "name": "bash"
  }
 },
 "nbformat": 4,
 "nbformat_minor": 2
}

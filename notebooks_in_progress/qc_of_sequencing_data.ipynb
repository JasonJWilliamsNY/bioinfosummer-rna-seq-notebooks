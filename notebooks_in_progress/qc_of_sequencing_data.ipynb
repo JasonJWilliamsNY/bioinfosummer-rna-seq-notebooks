{
 "cells": [
  {
   "cell_type": "markdown",
   "metadata": {},
   "source": [
    "# Quality Control of High-throughput sequencing data"
   ]
  },
  {
   "cell_type": "markdown",
   "metadata": {},
   "source": [
    "The [FastQ](https://en.wikipedia.org/wiki/FASTQ_format) sequencing format (Fasta with **quality**) is the most common format for high-throughput sequencing. The *quality* refers to the file format containing information about the [Phred score](https://en.wikipedia.org/wiki/Phred_quality_score). A quick look at an example line from a file reveals some basic information you should be aware of:"
   ]
  },
  {
   "cell_type": "markdown",
   "metadata": {},
   "source": [
    "## FastQ Format\n",
    "\n",
    "A single entry (read) in the file looks like this: "
   ]
  },
  {
   "cell_type": "code",
   "execution_count": null,
   "metadata": {},
   "outputs": [],
   "source": [
    "@SRR098026.1 HWUSI-EAS1599_1:2:1:0:968 length=35\n",
    "NNNNNNNNNNNNNNNNCNNNNNNNNNNNNNNNNNN\n",
    "+SRR098026.1 HWUSI-EAS1599_1:2:1:0:968 length=35\n",
    "!!!!!!!!!!!!!!!!#!!!!!!!!!!!!!!!!!!"
   ]
  },
  {
   "cell_type": "markdown",
   "metadata": {},
   "source": [
    "Every line has some significance:\n",
    "\n",
    "|Line|Information|\n",
    "|----|-----------|\n",
    "|1|Always begins with ‘@’ and then information about the read|\n",
    "|2|The actual DNA sequence|\n",
    "|3|Always begins with a ‘+’ and sometimes the same info in line 1|\n",
    "|4|Has a string of characters which represent the quality scores; must have same number of characters as line 2|\n",
    "\n",
    "Phred scores are encoded in the 4th line along a number line (from a score of 0-40) represented by symbols:"
   ]
  },
  {
   "cell_type": "code",
   "execution_count": null,
   "metadata": {},
   "outputs": [],
   "source": [
    "Quality encoding: !\"#$%&'()*+,-./0123456789:;<=>?@ABCDEFGHI\n",
    "                  |         |         |         |         |\n",
    "Quality score:    0........10........20........30........40     "
   ]
  },
  {
   "cell_type": "markdown",
   "metadata": {},
   "source": [
    "## Examining some sample data"
   ]
  },
  {
   "cell_type": "markdown",
   "metadata": {},
   "source": [
    "Run the cell below to see the FastQ files provided in this tutorial"
   ]
  },
  {
   "cell_type": "code",
   "execution_count": null,
   "metadata": {},
   "outputs": [],
   "source": [
    "!ls -F $HOME/tutorial-data/qc_examples/"
   ]
  },
  {
   "cell_type": "markdown",
   "metadata": {},
   "source": [
    "We see two FastQ files `SRR3191542_1.fastq.gz` and `SRR3191542_2.fastq.gz`. The `_1` and `_2` indicates that these are a pair of reads from a paired-end sequencing run; the left and right read respectively. There is also a directory `processed/` which contains 'backup' results that have been pre-proccessed for you"
   ]
  },
  {
   "cell_type": "markdown",
   "metadata": {},
   "source": [
    "## Sequencing QC with FASTQC"
   ]
  },
  {
   "cell_type": "markdown",
   "metadata": {},
   "source": [
    "[fastqc](https://www.bioinformatics.babraham.ac.uk/projects/fastqc/) is a simple and popular sequencing tool. To run it (it is already installed on this computer) we use the command `fastqc` followed by the name of the file we want to analyze:\n",
    "\n",
    "**Note: In this Jupyter Notebook, commands we want to run on the Linux shell must begin with a `!`**"
   ]
  },
  {
   "cell_type": "code",
   "execution_count": null,
   "metadata": {
    "scrolled": true
   },
   "outputs": [],
   "source": [
    "!fastqc $HOME/tutorial-data/qc_examples/SRR3191542_1.fastq.gz"
   ]
  },
  {
   "cell_type": "markdown",
   "metadata": {},
   "source": [
    "In the cell below, run the command on the `SRR3191542_1.fastq.gz` file. Remember, to start your command with `!` and use the path `$HOME/tutorial-data/qc_examples/`"
   ]
  },
  {
   "cell_type": "code",
   "execution_count": null,
   "metadata": {},
   "outputs": [],
   "source": []
  },
  {
   "cell_type": "markdown",
   "metadata": {},
   "source": [
    "We now have results for each of our files including an HTML report and a zip file containing additional information. "
   ]
  },
  {
   "cell_type": "code",
   "execution_count": null,
   "metadata": {},
   "outputs": [],
   "source": [
    "!ls $HOME/tutorial-data/qc_examples"
   ]
  },
  {
   "cell_type": "markdown",
   "metadata": {},
   "source": [
    "We can preview the FastQC HTML report as shown by running the next cell"
   ]
  },
  {
   "cell_type": "code",
   "execution_count": null,
   "metadata": {
    "scrolled": false
   },
   "outputs": [],
   "source": [
    "%%HTML\n",
    "<iframe width=\"100%\" height=\"550\" src=\"/user/tutorial-user/view/tutorial-data/qc_examples/SRR3191542_1_fastqc.html\"></iframe>"
   ]
  },
  {
   "cell_type": "markdown",
   "metadata": {},
   "source": [
    "## Sequencing QC with Fastp"
   ]
  },
  {
   "cell_type": "markdown",
   "metadata": {},
   "source": [
    "[Fastp](https://github.com/OpenGene/fastp) is more recently developed and popular QC tools. It has the advantage of not just reporting on quality, but simultaneously making trimming and filtering adjustments to improve the quality. Have a look over the [Fastp manual](https://github.com/OpenGene/fastp/blob/master/README.md); what do the options in the following command do? Run the command and then examine the results:"
   ]
  },
  {
   "cell_type": "code",
   "execution_count": null,
   "metadata": {
    "scrolled": true
   },
   "outputs": [],
   "source": [
    "!fastp -QLyAG -i $HOME/tutorial-data/qc_examples/SRR3191542_1.fastq.gz -o $HOME/tutorial-data/qc_examples/fastp_SRR3191542_1.fastq.gz"
   ]
  },
  {
   "cell_type": "markdown",
   "metadata": {},
   "source": [
    "Let's see the reports generated:"
   ]
  },
  {
   "cell_type": "code",
   "execution_count": null,
   "metadata": {
    "scrolled": true
   },
   "outputs": [],
   "source": [
    "!ls $HOME/tutorial-data/qc_examples/"
   ]
  },
  {
   "cell_type": "markdown",
   "metadata": {},
   "source": [
    "Again we can preview the results"
   ]
  },
  {
   "cell_type": "code",
   "execution_count": null,
   "metadata": {},
   "outputs": [],
   "source": [
    "%%HTML\n",
    "<iframe width=\"100%\" height=\"600\" src=\"$HOME/tutorial-data/qc_examples/fastp.html\"></iframe>"
   ]
  },
  {
   "cell_type": "markdown",
   "metadata": {},
   "source": [
    "You can also view the HTML results by going back to the Jupyter notebook home screen. Click the `..` to go up one level on the system directory and your results will be in `tutorial-data/qc_examples`"
   ]
  },
  {
   "cell_type": "markdown",
   "metadata": {},
   "source": [
    "## Running Fastp on the tutorial sample data"
   ]
  },
  {
   "cell_type": "markdown",
   "metadata": {},
   "source": [
    "The sample data for this tutorial is [described in this paper](https://journals.plos.org/plosone/article?id=10.1371/journal.pone.0175744). And located on this computer here: "
   ]
  },
  {
   "cell_type": "code",
   "execution_count": null,
   "metadata": {
    "scrolled": true
   },
   "outputs": [],
   "source": [
    "!ls -R /home/tutorial-user/tutorial-data/kallisto-bulk/data/fastq_files/"
   ]
  },
  {
   "cell_type": "markdown",
   "metadata": {},
   "source": [
    "To analyze these data using fastp we can use a for loop to loop through the files, appropriately ingesting either a single read or pair of reads, and creating the appropriate output. We will not need to execute the loop, but an example is given below:\n",
    "\n",
    "For paired-end files (*hint* - remove the # in front of the fastp command for this to actually work). "
   ]
  },
  {
   "cell_type": "code",
   "execution_count": null,
   "metadata": {},
   "outputs": [],
   "source": [
    "!cd /home/tutorial-user/tutorial-data/kallisto-bulk/data/fastq_files/paired-end/\n",
    "!for r1infile in /home/tutorial-user/tutorial-data/kallisto-bulk/data/fastq_files/paired-end/*_1.fastq.gz;\\\n",
    " do\\\n",
    " r2infile=$(echo $r1infile|cut -f1 -d _)_2.fastq.gz;\\\n",
    " r1outfile=fastp_$(echo $r1infile|cut -f1 -d _)_1.fastq.gz;\\\n",
    " r2outfile=fastp_$(echo $r1infile|cut -f1 -d _)_2.fastq.gz;\\\n",
    " reportname=$(echo $r1infile|cut -f1 -d _).fastp-report.html;\\\n",
    " echo \"processing $r1infile and $r2infile\";\\\n",
    " #fastp -h $reportname -i $r1infile -o $r1outfile -I $r2infile -O $r2outfile;\\\n",
    " done; "
   ]
  },
  {
   "cell_type": "markdown",
   "metadata": {},
   "source": [
    "For paired-end files (*hint* - remove the # in front of the fastp command for this to actually work). "
   ]
  },
  {
   "cell_type": "code",
   "execution_count": null,
   "metadata": {},
   "outputs": [],
   "source": [
    "!cd /home/tutorial-user/tutorial-data/kallisto-bulk/data/fastq_files/single-end/\n",
    "!for infile in /home/tutorial-user/tutorial-data/kallisto-bulk/data/fastq_files/single-end/*_1.fastq.gz;\\\n",
    " do\\\n",
    " outfile=\"fastp_${infile}\"; reportname=\"fastp_${infile}.report\";\\\n",
    " echo \"processing $infile\";\\\n",
    " #fastp \"-h '$reportname' -i $infile -o $outfile\";\\\n",
    " done"
   ]
  }
 ],
 "metadata": {
  "kernelspec": {
   "display_name": "Python 3",
   "language": "python",
   "name": "python3"
  },
  "language_info": {
   "codemirror_mode": {
    "name": "ipython",
    "version": 3
   },
   "file_extension": ".py",
   "mimetype": "text/x-python",
   "name": "python",
   "nbconvert_exporter": "python",
   "pygments_lexer": "ipython3",
   "version": "3.6.7"
  }
 },
 "nbformat": 4,
 "nbformat_minor": 2
}

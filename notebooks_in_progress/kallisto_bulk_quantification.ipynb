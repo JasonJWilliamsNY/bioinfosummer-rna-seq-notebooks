{
 "cells": [
  {
   "cell_type": "markdown",
   "metadata": {},
   "source": [
    "# RNA-Seq from scratch - Kallisto"
   ]
  },
  {
   "cell_type": "markdown",
   "metadata": {},
   "source": [
    "In the experiment described [in this paper](https://journals.plos.org/plosone/article?id=10.1371/journal.pone.0175744) a total of eight RNA-seq samples of ZIKV-infected and mock-infected hNPCs were analyzed. The results of the sequence data (as available on the [NCBI Sequence Read Archive](https://www.ncbi.nlm.nih.gov/bioproject/PRJNA313294)) are analyzed here. "
   ]
  },
  {
   "cell_type": "markdown",
   "metadata": {},
   "source": [
    "## Organizing our inputs"
   ]
  },
  {
   "cell_type": "markdown",
   "metadata": {},
   "source": [
    "Kallisto requires just a few simple things to run \n",
    "\n",
    "- A reference transcriptome\n",
    "- FastQ files (your sequence data)\n",
    "\n",
    "Since we already have this data available on the computers you are connecting to, let's find, inspect, and organize it"
   ]
  },
  {
   "cell_type": "markdown",
   "metadata": {},
   "source": [
    "## Organizing files and directories"
   ]
  },
  {
   "cell_type": "markdown",
   "metadata": {},
   "source": [
    "This notebook is running the bash shell. We could run all of these commands from the terminal, and if you run these on a terminal on your own after the workshop the commands will be similar (the locations of your files may be different)"
   ]
  },
  {
   "cell_type": "markdown",
   "metadata": {},
   "source": [
    "### Get the working directory and set the locations of files\n",
    "\n",
    "First, let's go to our home directory. If you ever get lost there is no place like home:"
   ]
  },
  {
   "cell_type": "code",
   "execution_count": null,
   "metadata": {},
   "outputs": [],
   "source": [
    "cd"
   ]
  },
  {
   "cell_type": "markdown",
   "metadata": {},
   "source": [
    "Let's see the contents of our home directory"
   ]
  },
  {
   "cell_type": "code",
   "execution_count": null,
   "metadata": {},
   "outputs": [],
   "source": [
    "ls"
   ]
  },
  {
   "cell_type": "markdown",
   "metadata": {},
   "source": [
    "Another way of specifying the home directory will be to use the `$HOME` shell variable"
   ]
  },
  {
   "cell_type": "code",
   "execution_count": null,
   "metadata": {},
   "outputs": [],
   "source": [
    "ls $HOME"
   ]
  },
  {
   "cell_type": "markdown",
   "metadata": {},
   "source": [
    "All of the data we need for our bulk RNA-Seq experiment should be in the `tutorial-data` folder; let's inspect its contents:"
   ]
  },
  {
   "cell_type": "code",
   "execution_count": null,
   "metadata": {},
   "outputs": [],
   "source": [
    "ls $HOME/tutorial-data"
   ]
  },
  {
   "cell_type": "markdown",
   "metadata": {},
   "source": [
    "For this experiment, all of our input data files will be in the `kallisto-bulk/data` folder: "
   ]
  },
  {
   "cell_type": "code",
   "execution_count": null,
   "metadata": {},
   "outputs": [],
   "source": [
    "ls $HOME/tutorial-data/kallisto-bulk/data"
   ]
  },
  {
   "cell_type": "markdown",
   "metadata": {},
   "source": [
    "The `fastq_files` directory contains data generated from the example experiment"
   ]
  },
  {
   "cell_type": "code",
   "execution_count": null,
   "metadata": {},
   "outputs": [],
   "source": [
    "ls -R $HOME/tutorial-data/kallisto-bulk/data/fastq_files"
   ]
  },
  {
   "cell_type": "markdown",
   "metadata": {},
   "source": [
    "Let's see which of the files were from paired-end sequenced libraries, and those that were single-end sequenced. A file in the `study_design` folder has this information:"
   ]
  },
  {
   "cell_type": "code",
   "execution_count": null,
   "metadata": {},
   "outputs": [],
   "source": [
    "cat $HOME/tutorial-data/kallisto-bulk/data/study_design/zikadesignmatrix.csv"
   ]
  },
  {
   "cell_type": "markdown",
   "metadata": {},
   "source": [
    "Samples `SRR3194428`, `SRR3194429`, `SRR3194430`, and `SRR3194431` are single-end sequenced."
   ]
  },
  {
   "cell_type": "markdown",
   "metadata": {},
   "source": [
    "If you remember in the previous exercise, we have already done some quality control on these files. Rather than repeat this let's we will use these data as inputs for Kallisto"
   ]
  },
  {
   "cell_type": "code",
   "execution_count": null,
   "metadata": {},
   "outputs": [],
   "source": [
    "ls -R $HOME/tutorial-data/kallisto-bulk/analyses/pre-processed_fastp"
   ]
  },
  {
   "cell_type": "markdown",
   "metadata": {},
   "source": [
    "### Obtain reference transcriptome\n",
    "\n",
    "We obtained the human reference transcriptome data from [Ensemble](https://uswest.ensembl.org/Homo_sapiens/Info/Index). Specifically, we want the set of cDNAs available from the [ftp site](ftp://ftp.ensembl.org/pub/release-94/fasta/homo_sapiens/cdna/). Those data are available here:"
   ]
  },
  {
   "cell_type": "code",
   "execution_count": null,
   "metadata": {},
   "outputs": [],
   "source": [
    "ls $HOME/tutorial-data/kallisto-bulk/data/transcriptomes"
   ]
  },
  {
   "cell_type": "markdown",
   "metadata": {},
   "source": [
    "### Using Kallisto to index the transcriptome\n",
    "\n",
    "We will now use Kallisto's indexing function to prepare the transcriptome for analysis. First let's organize our files:"
   ]
  },
  {
   "cell_type": "code",
   "execution_count": null,
   "metadata": {},
   "outputs": [],
   "source": [
    "cd $HOME/tutorial-data/kallisto-bulk/indicies\n",
    "ls"
   ]
  },
  {
   "cell_type": "markdown",
   "metadata": {},
   "source": [
    "The `pre-processed-index` folder contains a backup index, but we can make our own. "
   ]
  },
  {
   "cell_type": "markdown",
   "metadata": {},
   "source": [
    "Now we are finally ready to use kallisto. Let's check that Kallisto is installed, check it's version, and get a little help:"
   ]
  },
  {
   "cell_type": "code",
   "execution_count": null,
   "metadata": {},
   "outputs": [],
   "source": [
    "kallisto"
   ]
  },
  {
   "cell_type": "markdown",
   "metadata": {},
   "source": [
    "Next run the indexing command (5-7 minutes). This prepares the transcriptome so that we can peudoalign reads to it. "
   ]
  },
  {
   "cell_type": "code",
   "execution_count": null,
   "metadata": {},
   "outputs": [],
   "source": [
    "kallisto index --index=\"human_GRCh38_transcriptome_index\" $HOME/tutorial-data/kallisto-bulk/data/transcriptomes/Homo_sapiens.GRCh38.cdna.all.fa.gz"
   ]
  },
  {
   "cell_type": "markdown",
   "metadata": {},
   "source": [
    "We now have a transcriptome index which can now be used for pseudoalignment. As long as we intend to use this version of the transcriptome, we can use this index for all our future Kallisto experiments - no need to index again."
   ]
  },
  {
   "cell_type": "code",
   "execution_count": null,
   "metadata": {},
   "outputs": [],
   "source": [
    "ls"
   ]
  },
  {
   "cell_type": "markdown",
   "metadata": {},
   "source": [
    "### Quantify reads\n",
    "\n",
    "In this final step, we will run Kallisto on all of our files to quantify the reads. We will create a directory and then write some bash shell for loops to run kallisto independently on each read file (single-end) or pair of read files (paired-end). "
   ]
  },
  {
   "cell_type": "code",
   "execution_count": null,
   "metadata": {},
   "outputs": [],
   "source": [
    "cd $HOME/tutorial-user/tutorial-data/kallisto-bulk/analyses/pre-processed_fastp/\n",
    "ls -R"
   ]
  },
  {
   "cell_type": "markdown",
   "metadata": {},
   "source": [
    "All instructions for the commands we are using are in the Kallisto manual: https://pachterlab.github.io/kallisto/manual. "
   ]
  },
  {
   "cell_type": "markdown",
   "metadata": {},
   "source": [
    "First, let's do the analysis of the single-end reads, based on the parameters use in the paper"
   ]
  },
  {
   "cell_type": "code",
   "execution_count": null,
   "metadata": {
    "scrolled": true
   },
   "outputs": [],
   "source": [
    "cd $HOME/tutorial-user/tutorial-data/kallisto-bulk/analyses/pre-processed_fastp/single-end\n",
    "for file in *.fastq.gz; do output=\"${file%.*.*}\"_quant; kallisto quant\\\n",
    " --threads=4\\\n",
    " --single\\\n",
    " --index=$HOME/tutorial-data/kallisto-bulk/indicies/human_GRCh38_transcriptome_index\\\n",
    " --bootstrap-samples=100\\\n",
    " --fragment-length=187\\\n",
    " --sd=70\\\n",
    " --output-dir=$output\\\n",
    " $file; done"
   ]
  },
  {
   "cell_type": "markdown",
   "metadata": {},
   "source": [
    "Now we should have four folders containing results of our quantification of the single-end reads:"
   ]
  },
  {
   "cell_type": "code",
   "execution_count": null,
   "metadata": {
    "scrolled": true
   },
   "outputs": [],
   "source": [
    "ls $HOME/tutorial-user/tutorial-data/kallisto-bulk/analyses/pre-processed_fastp/single-end"
   ]
  },
  {
   "cell_type": "markdown",
   "metadata": {},
   "source": [
    "Let's create a folder for these results and organize outputs there"
   ]
  },
  {
   "cell_type": "code",
   "execution_count": null,
   "metadata": {},
   "outputs": [],
   "source": [
    "mkdir $HOME/tutorial-data/kallisto-bulk/analyses/kallisto-quantification/"
   ]
  },
  {
   "cell_type": "markdown",
   "metadata": {},
   "source": [
    "Let's move the folders to our analyses folder:"
   ]
  },
  {
   "cell_type": "code",
   "execution_count": null,
   "metadata": {},
   "outputs": [],
   "source": [
    "mv $HOME/tutorial-user/tutorial-data/kallisto-bulk/analyses/pre-processed_fastp/single-end/*/ $HOME/tutorial-data/kallisto-bulk/analyses/kallisto-quantification"
   ]
  },
  {
   "cell_type": "code",
   "execution_count": null,
   "metadata": {
    "scrolled": false
   },
   "outputs": [],
   "source": [
    "cd $HOME/tutorial-user/tutorial-data/kallisto-bulk/analyses/pre-processed_fastp/paired-end\n",
    "for file in *_1.fastq.gz; do re1input=$file;\\\n",
    " re2input=fastp_$(echo $file|cut -f2 -d _)_2.fastq.gz;\\\n",
    " output=\"${file%.*.*}\"_quant;\\\n",
    " output=fastp_$(echo $file|cut -f2 -d _)_quant;\\\n",
    " kallisto quant\\\n",
    " --threads=4\\\n",
    " --index=$HOME/tutorial-data/kallisto-bulk/indicies/human_GRCh38_transcriptome_index\\\n",
    " --bootstrap-samples=100\\\n",
    " --output-dir=$output\\\n",
    " $re1input $re2input;\\\n",
    " done"
   ]
  },
  {
   "cell_type": "markdown",
   "metadata": {},
   "source": [
    "We now will have folders for the results of our paired-end quantification"
   ]
  },
  {
   "cell_type": "code",
   "execution_count": null,
   "metadata": {},
   "outputs": [],
   "source": [
    "ls $HOME/tutorial-data/kallisto-bulk/analyses/kallisto-quantification/"
   ]
  },
  {
   "cell_type": "markdown",
   "metadata": {},
   "source": [
    "### Examining Kallisto Outputs"
   ]
  },
  {
   "cell_type": "markdown",
   "metadata": {},
   "source": [
    "Given the parameters we used, we expect the following outputs (as taken from the [kallisto manual](https://pachterlab.github.io/kallisto/manual)):\n",
    "\n",
    "- **abundances.h5**: HDF5 binary file containing run info, abundance estimates, bootstrap estimates, and transcript length information length. This file can be read in by sleuth\n",
    "- **abundances.tsv**: Plaintext file of the abundance estimates. It does not contains bootstrap estimates (but these can be output using the `--plaintext` argument. `kallisto h5dump` can be used to output an HDF5 file to plaintext. The first line contains a header for each column, including estimated counts, TPM, effective length.\n",
    "- **run_info.json**:json file containing information about the run\n",
    "\n",
    "Let's look at the first few lines of the abundences in `SRR3191541_quant`:\n"
   ]
  },
  {
   "cell_type": "code",
   "execution_count": null,
   "metadata": {},
   "outputs": [],
   "source": [
    "head $HOME/tutorial-data/kallisto-bulk/analyses/kallisto-quantification/fastp_SRR3191542_quant/abundance.tsv"
   ]
  },
  {
   "cell_type": "markdown",
   "metadata": {},
   "source": [
    "We can also get information about the run in the json file"
   ]
  },
  {
   "cell_type": "code",
   "execution_count": null,
   "metadata": {},
   "outputs": [],
   "source": [
    "cat $HOME/tutorial-data/kallisto-bulk/analyses/kallisto-quantification/fastp_SRR3191542_quant/run_info.json"
   ]
  }
 ],
 "metadata": {
  "kernelspec": {
   "display_name": "Bash",
   "language": "bash",
   "name": "bash"
  },
  "language_info": {
   "codemirror_mode": "shell",
   "file_extension": ".sh",
   "mimetype": "text/x-sh",
   "name": "bash"
  }
 },
 "nbformat": 4,
 "nbformat_minor": 2
}
